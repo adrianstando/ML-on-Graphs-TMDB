{
 "cells": [
  {
   "cell_type": "markdown",
   "source": [
    "# Trying first graph model"
   ],
   "metadata": {
    "collapsed": false
   }
  },
  {
   "cell_type": "markdown",
   "source": [
    "## Dataset"
   ],
   "metadata": {
    "collapsed": false
   }
  },
  {
   "cell_type": "code",
   "execution_count": 1,
   "outputs": [],
   "source": [
    "from dataset import TMDBDataset"
   ],
   "metadata": {
    "collapsed": false
   }
  },
  {
   "cell_type": "code",
   "execution_count": 2,
   "outputs": [],
   "source": [
    "df = TMDBDataset(\n",
    "    root = \"./tmp\",\n",
    "    node_feature_method = \"counter\",\n",
    "    node_feature_params = {'min_df': 0.1},\n",
    "    node_feature_column_source = \"overview\",\n",
    "    edge_weight_column_source = \"cast\",\n",
    "    jaccard_distance_threshold = 0,\n",
    "    graph_type = \"homogenous\"\n",
    ")"
   ],
   "metadata": {
    "collapsed": false
   }
  },
  {
   "cell_type": "code",
   "execution_count": 2,
   "outputs": [],
   "source": [],
   "metadata": {
    "collapsed": false
   }
  },
  {
   "cell_type": "markdown",
   "source": [
    "## First model"
   ],
   "metadata": {
    "collapsed": false
   }
  },
  {
   "cell_type": "code",
   "execution_count": 3,
   "outputs": [],
   "source": [
    "import torch_geometric\n",
    "import torch\n",
    "import numpy as np"
   ],
   "metadata": {
    "collapsed": false
   }
  },
  {
   "cell_type": "code",
   "execution_count": 4,
   "outputs": [],
   "source": [
    "graph = df[0]"
   ],
   "metadata": {
    "collapsed": false
   }
  },
  {
   "cell_type": "code",
   "execution_count": 5,
   "outputs": [],
   "source": [
    "graph.y = np.log(graph.y)"
   ],
   "metadata": {
    "collapsed": false
   }
  },
  {
   "cell_type": "code",
   "execution_count": 6,
   "outputs": [],
   "source": [
    "split = torch_geometric.transforms.RandomNodeSplit(num_val=0, num_test=0.2)\n",
    "graph = split(graph)"
   ],
   "metadata": {
    "collapsed": false
   }
  },
  {
   "cell_type": "code",
   "execution_count": 7,
   "outputs": [
    {
     "data": {
      "text/plain": "Data(x=[2926, 44], edge_index=[2, 275402], edge_attr=[275402, 1], y=[2926, 1], train_mask=[2926], val_mask=[2926], test_mask=[2926])"
     },
     "execution_count": 7,
     "metadata": {},
     "output_type": "execute_result"
    }
   ],
   "source": [
    "graph"
   ],
   "metadata": {
    "collapsed": false
   }
  },
  {
   "cell_type": "code",
   "execution_count": 8,
   "outputs": [
    {
     "data": {
      "text/plain": "True"
     },
     "execution_count": 8,
     "metadata": {},
     "output_type": "execute_result"
    }
   ],
   "source": [
    "graph.validate()"
   ],
   "metadata": {
    "collapsed": false
   }
  },
  {
   "cell_type": "code",
   "execution_count": 8,
   "outputs": [],
   "source": [],
   "metadata": {
    "collapsed": false
   }
  },
  {
   "cell_type": "markdown",
   "source": [
    "Function for plotting the MSE for each epoch"
   ],
   "metadata": {
    "collapsed": false
   }
  },
  {
   "cell_type": "code",
   "execution_count": 9,
   "outputs": [],
   "source": [
    "import matplotlib.pyplot as plt\n",
    "import numpy as np"
   ],
   "metadata": {
    "collapsed": false
   }
  },
  {
   "cell_type": "code",
   "execution_count": 41,
   "outputs": [],
   "source": [
    "def plot_epochs(train, test, epoch_range=None):\n",
    "    if epoch_range is None:\n",
    "        epoch_range = (1, len(train) + 1)\n",
    "    x = np.arange(epoch_range[0], epoch_range[1])\n",
    "    n_lower = epoch_range[0] - 1\n",
    "    n_upper = epoch_range[1] - 1\n",
    "    plt.plot(x, train[n_lower:n_upper], label='train')\n",
    "    plt.plot(x, test[n_lower:n_upper], label='text')\n",
    "    plt.legend()"
   ],
   "metadata": {
    "collapsed": false
   }
  },
  {
   "cell_type": "code",
   "execution_count": 10,
   "outputs": [],
   "source": [],
   "metadata": {
    "collapsed": false
   }
  },
  {
   "cell_type": "markdown",
   "source": [
    "**Model**"
   ],
   "metadata": {
    "collapsed": false
   }
  },
  {
   "cell_type": "code",
   "execution_count": 11,
   "outputs": [],
   "source": [
    "class SimpleGCN(torch.nn.Module):\n",
    "    def __init__(self, hidden_size=(16,)):\n",
    "        super().__init__()\n",
    "        self.conv_layers = []\n",
    "        n = len(hidden_size)\n",
    "        for i in range(n + 1):\n",
    "            n_input = df.num_node_features if i == 0 else hidden_size[i-1]\n",
    "            n_output = 1 if i == n else hidden_size[i]\n",
    "            self.conv_layers.append(\n",
    "                torch_geometric.nn.GCNConv(n_input, n_output)\n",
    "            )\n",
    "        self.conv_layers = torch.nn.ParameterList(self.conv_layers)\n",
    "\n",
    "    def forward(self, data):\n",
    "        x, edge_index, edge_weight = data.x.float(), data.edge_index.long(), data.edge_attr\n",
    "        for layer in self.conv_layers:\n",
    "            x = layer(x, edge_index, edge_weight)\n",
    "            x = torch.nn.functional.relu(x).float()\n",
    "        return x"
   ],
   "metadata": {
    "collapsed": false
   }
  },
  {
   "cell_type": "code",
   "execution_count": 12,
   "outputs": [
    {
     "name": "stdout",
     "output_type": "stream",
     "text": [
      "Using device: cuda\n"
     ]
    }
   ],
   "source": [
    "device = torch.device('cuda' if torch.cuda.is_available() else 'cpu')\n",
    "print(f\"Using device: {device}\")"
   ],
   "metadata": {
    "collapsed": false
   }
  },
  {
   "cell_type": "code",
   "execution_count": 64,
   "outputs": [],
   "source": [
    "hidden = (32, 32, 32, 32)\n",
    "lr = 0.01\n",
    "epochs = 300"
   ],
   "metadata": {
    "collapsed": false
   }
  },
  {
   "cell_type": "code",
   "execution_count": 65,
   "outputs": [
    {
     "name": "stdout",
     "output_type": "stream",
     "text": [
      "Epoch: 10, train mse: 38.37513732910156, test mse: 29.601917266845703\n",
      "Epoch: 20, train mse: 13.337250709533691, test mse: 10.703934669494629\n",
      "Epoch: 30, train mse: 17.725801467895508, test mse: 16.66522216796875\n",
      "Epoch: 40, train mse: 13.922607421875, test mse: 10.35110092163086\n",
      "Epoch: 50, train mse: 11.577103614807129, test mse: 9.043210983276367\n",
      "Epoch: 60, train mse: 10.690706253051758, test mse: 8.943085670471191\n",
      "Epoch: 70, train mse: 9.752365112304688, test mse: 8.15007209777832\n",
      "Epoch: 80, train mse: 8.426335334777832, test mse: 7.806344509124756\n",
      "Epoch: 90, train mse: 7.592257976531982, test mse: 7.243714809417725\n",
      "Epoch: 100, train mse: 7.012513637542725, test mse: 6.938525199890137\n",
      "Epoch: 110, train mse: 6.5572829246521, test mse: 6.701485633850098\n",
      "Epoch: 120, train mse: 6.227438449859619, test mse: 6.522300720214844\n",
      "Epoch: 130, train mse: 6.004086017608643, test mse: 6.445830821990967\n",
      "Epoch: 140, train mse: 5.937836647033691, test mse: 6.424664497375488\n",
      "Epoch: 150, train mse: 5.816406726837158, test mse: 6.3294453620910645\n",
      "Epoch: 160, train mse: 5.694042682647705, test mse: 6.2535905838012695\n",
      "Epoch: 170, train mse: 5.6068830490112305, test mse: 6.207906723022461\n",
      "Epoch: 180, train mse: 5.524137020111084, test mse: 6.160385608673096\n",
      "Epoch: 190, train mse: 5.440972328186035, test mse: 6.073189735412598\n",
      "Epoch: 200, train mse: 5.378586292266846, test mse: 5.994387149810791\n",
      "Epoch: 210, train mse: 5.514008522033691, test mse: 6.126743793487549\n",
      "Epoch: 220, train mse: 5.329828262329102, test mse: 5.946344375610352\n",
      "Epoch: 230, train mse: 5.223268508911133, test mse: 5.8415913581848145\n",
      "Epoch: 240, train mse: 5.79364013671875, test mse: 6.4715495109558105\n",
      "Epoch: 250, train mse: 5.281711578369141, test mse: 5.971653461456299\n",
      "Epoch: 260, train mse: 5.093542098999023, test mse: 5.806398868560791\n",
      "Epoch: 270, train mse: 5.049232006072998, test mse: 5.7908782958984375\n",
      "Epoch: 280, train mse: 4.997328281402588, test mse: 5.77838134765625\n",
      "Epoch: 290, train mse: 4.943609714508057, test mse: 5.78189754486084\n",
      "Epoch: 300, train mse: 4.891818046569824, test mse: 5.793292045593262\n"
     ]
    }
   ],
   "source": [
    "model = SimpleGCN(hidden).to(device)\n",
    "graph = graph.to(device)\n",
    "optimizer = torch.optim.Adam(model.parameters(), lr=lr)\n",
    "loss_fn = torch.nn.MSELoss()\n",
    "\n",
    "train_mse = []\n",
    "test_mse = []\n",
    "\n",
    "model.train()\n",
    "for epoch in range(epochs):\n",
    "    optimizer.zero_grad()\n",
    "    out = model(graph)\n",
    "    loss = loss_fn(out[graph.train_mask], graph.y[graph.train_mask])\n",
    "    loss.backward()\n",
    "    optimizer.step()\n",
    "\n",
    "    train_mse.append(loss.item())\n",
    "    test_mse_val = loss_fn(out[graph.test_mask], graph.y[graph.test_mask]).item()\n",
    "    test_mse.append(test_mse_val)\n",
    "\n",
    "    if (epoch + 1) % 10 == 0:\n",
    "        print(f'Epoch: {epoch + 1}, train mse: {loss.item()}, test mse: {test_mse_val}')"
   ],
   "metadata": {
    "collapsed": false
   }
  },
  {
   "cell_type": "code",
   "execution_count": 66,
   "outputs": [
    {
     "data": {
      "text/plain": "<Figure size 640x480 with 1 Axes>",
      "image/png": "[encoded data removed]"
     },
     "metadata": {},
     "output_type": "display_data"
    }
   ],
   "source": [
    "plot_epochs(train_mse, test_mse)\n",
    "plt.show()"
   ],
   "metadata": {
    "collapsed": false
   }
  },
  {
   "cell_type": "code",
   "execution_count": 67,
   "outputs": [
    {
     "data": {
      "text/plain": "<Figure size 640x480 with 1 Axes>",
      "image/png": "[encoded data removed]"
     },
     "metadata": {},
     "output_type": "display_data"
    }
   ],
   "source": [
    "plot_epochs(train_mse, test_mse, (10, 300))\n",
    "plt.show()"
   ],
   "metadata": {
    "collapsed": false
   }
  },
  {
   "cell_type": "code",
   "execution_count": 15,
   "outputs": [],
   "source": [],
   "metadata": {
    "collapsed": false
   }
  },
  {
   "cell_type": "code",
   "execution_count": 15,
   "outputs": [],
   "source": [],
   "metadata": {
    "collapsed": false
   }
  },
  {
   "cell_type": "code",
   "execution_count": 15,
   "outputs": [],
   "source": [],
   "metadata": {
    "collapsed": false
   }
  }
 ],
 "metadata": {
  "kernelspec": {
   "display_name": "Python 3",
   "language": "python",
   "name": "python3"
  },
  "language_info": {
   "codemirror_mode": {
    "name": "ipython",
    "version": 2
   },
   "file_extension": ".py",
   "mimetype": "text/x-python",
   "name": "python",
   "nbconvert_exporter": "python",
   "pygments_lexer": "ipython2",
   "version": "2.7.6"
  }
 },
 "nbformat": 4,
 "nbformat_minor": 0
}
