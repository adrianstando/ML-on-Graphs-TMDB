{
 "cells": [
  {
   "cell_type": "code",
   "execution_count": 1,
   "metadata": {},
   "outputs": [],
   "source": [
    "from sklearn.ensemble import RandomForestRegressor\n",
    "from xgboost import XGBRegressor\n",
    "from sklearn.linear_model import LinearRegression\n",
    "from sklearn.neural_network import MLPRegressor\n",
    "from sklearn.model_selection import train_test_split\n",
    "from sklearn.metrics import mean_squared_error\n",
    "import pandas as pd\n",
    "import numpy as np\n",
    "from dataset import TMDBDataset"
   ]
  },
  {
   "cell_type": "code",
   "execution_count": 2,
   "metadata": {},
   "outputs": [],
   "source": [
    "overview_cast_df = TMDBDataset(\n",
    "    root = \"./tmp\",\n",
    "    node_feature_method = \"counter\",\n",
    "    node_feature_params = {'min_df': 0.1},\n",
    "    node_feature_column_source = \"keywords\",\n",
    "    add_additional_node_features = True,\n",
    "    edge_weight_column_source = \"cast\",\n",
    "    jaccard_distance_threshold = 0,\n",
    "    graph_type = \"homogenous\"\n",
    ")\n",
    "overview_cast_df.y = np.log(overview_cast_df.y)"
   ]
  },
  {
   "cell_type": "code",
   "execution_count": 4,
   "metadata": {},
   "outputs": [],
   "source": [
    "keywords_cast_df = TMDBDataset(\n",
    "    root = \"./tmp\",\n",
    "    node_feature_method = \"counter\",\n",
    "    node_feature_params = {'min_df': 0.015},\n",
    "    node_feature_column_source = \"keywords\",\n",
    "    add_additional_node_features = True,\n",
    "    edge_weight_column_source = \"cast\",\n",
    "    jaccard_distance_threshold = 0,\n",
    "    graph_type = \"homogenous\"\n",
    ")\n",
    "keywords_cast_df.y = np.log(keywords_cast_df.y)"
   ]
  },
  {
   "cell_type": "code",
   "execution_count": 46,
   "metadata": {},
   "outputs": [],
   "source": [
    "df = TMDBDataset(\n",
    "    root=\"./tmp\",\n",
    "    node_feature_method=\"counter\",\n",
    "    node_feature_params=0.015,\n",
    "    node_feature_column_source=\"keywords\",\n",
    "    add_additional_node_features=True,\n",
    "    edge_weight_column_source=\"cast\",\n",
    "    jaccard_distance_threshold=0,\n",
    "    graph_type=\"heterogeneous\",\n",
    ")"
   ]
  },
  {
   "cell_type": "code",
   "execution_count": 47,
   "metadata": {},
   "outputs": [],
   "source": [
    "datasets = {\n",
    "    \"overview\": overview_cast_df,\n",
    "    \"keywords\": keywords_cast_df,\n",
    "}"
   ]
  },
  {
   "cell_type": "code",
   "execution_count": 58,
   "metadata": {},
   "outputs": [],
   "source": [
    "import itertools"
   ]
  },
  {
   "cell_type": "code",
   "execution_count": 70,
   "metadata": {},
   "outputs": [],
   "source": [
    "def train_baseline_models(dataset): \n",
    "    results = []\n",
    "    X_train, X_test, y_train, y_test = train_test_split(dataset.x.numpy(), dataset.y.numpy().ravel(), test_size=0.2, random_state=42)\n",
    "    models = {\n",
    "        \"LinearRegression\": LinearRegression,\n",
    "        \"RandomForestRegressor\": RandomForestRegressor,\n",
    "        \"XGBRegressor\": XGBRegressor,\n",
    "        \"MLPRegressor\": MLPRegressor\n",
    "    }\n",
    "\n",
    "    params = {\n",
    "        \"LinearRegression\": {\"fit_intercept\": [True, False]},\n",
    "        \"RandomForestRegressor\": {\"max_depth\": [3, 5, 8, 10], \"max_features\": [0.5, 0.7, 0.9]},\n",
    "        \"XGBRegressor\": {\"max_depth\": [3, 5, 8, 10]},\n",
    "        \"MLPRegressor\": {\"hidden_layer_sizes\": [(100, 50), (100, 50, 25), (100,)]}\n",
    "    }\n",
    "\n",
    "    for name, model_class in models.items():\n",
    "        model_params = params[name]\n",
    "        keys, values = zip(*model_params.items())\n",
    "        combinations = [dict(zip(keys, v)) for v in itertools.product(*values)]\n",
    "        for combination in combinations:\n",
    "            model = model_class(**combination)\n",
    "            model.fit(X_train, y_train)\n",
    "            y_pred = model.predict(X_test)\n",
    "            mse_train = mean_squared_error(y_train, model.predict(X_train))\n",
    "            mse_test = mean_squared_error(y_test, y_pred)\n",
    "            results.append({\"model\": name, \"mse_train\": mse_train, \"mse_test\": mse_test})\n",
    "    return pd.DataFrame(results)"
   ]
  },
  {
   "cell_type": "code",
   "execution_count": 72,
   "metadata": {},
   "outputs": [
    {
     "name": "stderr",
     "output_type": "stream",
     "text": [
      "/Library/Frameworks/Python.framework/Versions/3.10/lib/python3.10/site-packages/sklearn/neural_network/_multilayer_perceptron.py:686: ConvergenceWarning: Stochastic Optimizer: Maximum iterations (200) reached and the optimization hasn't converged yet.\n",
      "  warnings.warn(\n",
      "/Library/Frameworks/Python.framework/Versions/3.10/lib/python3.10/site-packages/sklearn/neural_network/_multilayer_perceptron.py:686: ConvergenceWarning: Stochastic Optimizer: Maximum iterations (200) reached and the optimization hasn't converged yet.\n",
      "  warnings.warn(\n",
      "/Library/Frameworks/Python.framework/Versions/3.10/lib/python3.10/site-packages/sklearn/neural_network/_multilayer_perceptron.py:686: ConvergenceWarning: Stochastic Optimizer: Maximum iterations (200) reached and the optimization hasn't converged yet.\n",
      "  warnings.warn(\n"
     ]
    }
   ],
   "source": [
    "overview_baseline = train_baseline_models(datasets[\"overview\"])"
   ]
  },
  {
   "cell_type": "code",
   "execution_count": 74,
   "metadata": {},
   "outputs": [
    {
     "data": {
      "text/html": [
       "<div>\n",
       "<style scoped>\n",
       "    .dataframe tbody tr th:only-of-type {\n",
       "        vertical-align: middle;\n",
       "    }\n",
       "\n",
       "    .dataframe tbody tr th {\n",
       "        vertical-align: top;\n",
       "    }\n",
       "\n",
       "    .dataframe thead th {\n",
       "        text-align: right;\n",
       "    }\n",
       "</style>\n",
       "<table border=\"1\" class=\"dataframe\">\n",
       "  <thead>\n",
       "    <tr style=\"text-align: right;\">\n",
       "      <th></th>\n",
       "      <th>model</th>\n",
       "      <th>mse_train</th>\n",
       "      <th>mse_test</th>\n",
       "    </tr>\n",
       "  </thead>\n",
       "  <tbody>\n",
       "    <tr>\n",
       "      <th>11</th>\n",
       "      <td>RandomForestRegressor</td>\n",
       "      <td>0.393127</td>\n",
       "      <td>1.104251</td>\n",
       "    </tr>\n",
       "    <tr>\n",
       "      <th>8</th>\n",
       "      <td>RandomForestRegressor</td>\n",
       "      <td>0.565075</td>\n",
       "      <td>1.108089</td>\n",
       "    </tr>\n",
       "    <tr>\n",
       "      <th>10</th>\n",
       "      <td>RandomForestRegressor</td>\n",
       "      <td>0.530861</td>\n",
       "      <td>1.114208</td>\n",
       "    </tr>\n",
       "    <tr>\n",
       "      <th>13</th>\n",
       "      <td>RandomForestRegressor</td>\n",
       "      <td>0.363508</td>\n",
       "      <td>1.115641</td>\n",
       "    </tr>\n",
       "    <tr>\n",
       "      <th>12</th>\n",
       "      <td>RandomForestRegressor</td>\n",
       "      <td>0.372565</td>\n",
       "      <td>1.125007</td>\n",
       "    </tr>\n",
       "    <tr>\n",
       "      <th>9</th>\n",
       "      <td>RandomForestRegressor</td>\n",
       "      <td>0.526836</td>\n",
       "      <td>1.127313</td>\n",
       "    </tr>\n",
       "    <tr>\n",
       "      <th>7</th>\n",
       "      <td>RandomForestRegressor</td>\n",
       "      <td>0.814792</td>\n",
       "      <td>1.132227</td>\n",
       "    </tr>\n",
       "    <tr>\n",
       "      <th>5</th>\n",
       "      <td>RandomForestRegressor</td>\n",
       "      <td>0.838574</td>\n",
       "      <td>1.134234</td>\n",
       "    </tr>\n",
       "    <tr>\n",
       "      <th>6</th>\n",
       "      <td>RandomForestRegressor</td>\n",
       "      <td>0.823087</td>\n",
       "      <td>1.140114</td>\n",
       "    </tr>\n",
       "    <tr>\n",
       "      <th>14</th>\n",
       "      <td>XGBRegressor</td>\n",
       "      <td>0.480009</td>\n",
       "      <td>1.141661</td>\n",
       "    </tr>\n",
       "  </tbody>\n",
       "</table>\n",
       "</div>"
      ],
      "text/plain": [
       "                    model  mse_train  mse_test\n",
       "11  RandomForestRegressor   0.393127  1.104251\n",
       "8   RandomForestRegressor   0.565075  1.108089\n",
       "10  RandomForestRegressor   0.530861  1.114208\n",
       "13  RandomForestRegressor   0.363508  1.115641\n",
       "12  RandomForestRegressor   0.372565  1.125007\n",
       "9   RandomForestRegressor   0.526836  1.127313\n",
       "7   RandomForestRegressor   0.814792  1.132227\n",
       "5   RandomForestRegressor   0.838574  1.134234\n",
       "6   RandomForestRegressor   0.823087  1.140114\n",
       "14           XGBRegressor   0.480009  1.141661"
      ]
     },
     "execution_count": 74,
     "metadata": {},
     "output_type": "execute_result"
    }
   ],
   "source": [
    "overview_baseline.sort_values(by=\"mse_test\").head(10)"
   ]
  },
  {
   "cell_type": "code",
   "execution_count": 75,
   "metadata": {},
   "outputs": [
    {
     "name": "stderr",
     "output_type": "stream",
     "text": [
      "/Library/Frameworks/Python.framework/Versions/3.10/lib/python3.10/site-packages/sklearn/neural_network/_multilayer_perceptron.py:686: ConvergenceWarning: Stochastic Optimizer: Maximum iterations (200) reached and the optimization hasn't converged yet.\n",
      "  warnings.warn(\n",
      "/Library/Frameworks/Python.framework/Versions/3.10/lib/python3.10/site-packages/sklearn/neural_network/_multilayer_perceptron.py:686: ConvergenceWarning: Stochastic Optimizer: Maximum iterations (200) reached and the optimization hasn't converged yet.\n",
      "  warnings.warn(\n",
      "/Library/Frameworks/Python.framework/Versions/3.10/lib/python3.10/site-packages/sklearn/neural_network/_multilayer_perceptron.py:686: ConvergenceWarning: Stochastic Optimizer: Maximum iterations (200) reached and the optimization hasn't converged yet.\n",
      "  warnings.warn(\n"
     ]
    }
   ],
   "source": [
    "keywords_baseline = train_baseline_models(datasets[\"keywords\"])"
   ]
  },
  {
   "cell_type": "code",
   "execution_count": 76,
   "metadata": {},
   "outputs": [
    {
     "data": {
      "text/html": [
       "<div>\n",
       "<style scoped>\n",
       "    .dataframe tbody tr th:only-of-type {\n",
       "        vertical-align: middle;\n",
       "    }\n",
       "\n",
       "    .dataframe tbody tr th {\n",
       "        vertical-align: top;\n",
       "    }\n",
       "\n",
       "    .dataframe thead th {\n",
       "        text-align: right;\n",
       "    }\n",
       "</style>\n",
       "<table border=\"1\" class=\"dataframe\">\n",
       "  <thead>\n",
       "    <tr style=\"text-align: right;\">\n",
       "      <th></th>\n",
       "      <th>model</th>\n",
       "      <th>mse_train</th>\n",
       "      <th>mse_test</th>\n",
       "    </tr>\n",
       "  </thead>\n",
       "  <tbody>\n",
       "    <tr>\n",
       "      <th>14</th>\n",
       "      <td>XGBRegressor</td>\n",
       "      <td>0.489650</td>\n",
       "      <td>1.066160</td>\n",
       "    </tr>\n",
       "    <tr>\n",
       "      <th>11</th>\n",
       "      <td>RandomForestRegressor</td>\n",
       "      <td>0.472122</td>\n",
       "      <td>1.087648</td>\n",
       "    </tr>\n",
       "    <tr>\n",
       "      <th>13</th>\n",
       "      <td>RandomForestRegressor</td>\n",
       "      <td>0.442478</td>\n",
       "      <td>1.100171</td>\n",
       "    </tr>\n",
       "    <tr>\n",
       "      <th>8</th>\n",
       "      <td>RandomForestRegressor</td>\n",
       "      <td>0.613914</td>\n",
       "      <td>1.102038</td>\n",
       "    </tr>\n",
       "    <tr>\n",
       "      <th>12</th>\n",
       "      <td>RandomForestRegressor</td>\n",
       "      <td>0.454443</td>\n",
       "      <td>1.104614</td>\n",
       "    </tr>\n",
       "    <tr>\n",
       "      <th>10</th>\n",
       "      <td>RandomForestRegressor</td>\n",
       "      <td>0.575502</td>\n",
       "      <td>1.105507</td>\n",
       "    </tr>\n",
       "    <tr>\n",
       "      <th>0</th>\n",
       "      <td>LinearRegression</td>\n",
       "      <td>0.886038</td>\n",
       "      <td>1.106514</td>\n",
       "    </tr>\n",
       "    <tr>\n",
       "      <th>9</th>\n",
       "      <td>RandomForestRegressor</td>\n",
       "      <td>0.591085</td>\n",
       "      <td>1.109919</td>\n",
       "    </tr>\n",
       "    <tr>\n",
       "      <th>5</th>\n",
       "      <td>RandomForestRegressor</td>\n",
       "      <td>0.829228</td>\n",
       "      <td>1.120952</td>\n",
       "    </tr>\n",
       "    <tr>\n",
       "      <th>6</th>\n",
       "      <td>RandomForestRegressor</td>\n",
       "      <td>0.819412</td>\n",
       "      <td>1.135546</td>\n",
       "    </tr>\n",
       "  </tbody>\n",
       "</table>\n",
       "</div>"
      ],
      "text/plain": [
       "                    model  mse_train  mse_test\n",
       "14           XGBRegressor   0.489650  1.066160\n",
       "11  RandomForestRegressor   0.472122  1.087648\n",
       "13  RandomForestRegressor   0.442478  1.100171\n",
       "8   RandomForestRegressor   0.613914  1.102038\n",
       "12  RandomForestRegressor   0.454443  1.104614\n",
       "10  RandomForestRegressor   0.575502  1.105507\n",
       "0        LinearRegression   0.886038  1.106514\n",
       "9   RandomForestRegressor   0.591085  1.109919\n",
       "5   RandomForestRegressor   0.829228  1.120952\n",
       "6   RandomForestRegressor   0.819412  1.135546"
      ]
     },
     "execution_count": 76,
     "metadata": {},
     "output_type": "execute_result"
    }
   ],
   "source": [
    "keywords_baseline.sort_values(by=\"mse_test\").head(10)"
   ]
  },
  {
   "cell_type": "code",
   "execution_count": null,
   "metadata": {},
   "outputs": [],
   "source": []
  }
 ],
 "metadata": {
  "kernelspec": {
   "display_name": "Python 3",
   "language": "python",
   "name": "python3"
  },
  "language_info": {
   "codemirror_mode": {
    "name": "ipython",
    "version": 3
   },
   "file_extension": ".py",
   "mimetype": "text/x-python",
   "name": "python",
   "nbconvert_exporter": "python",
   "pygments_lexer": "ipython3",
   "version": "3.10.5"
  },
  "orig_nbformat": 4
 },
 "nbformat": 4,
 "nbformat_minor": 2
}
