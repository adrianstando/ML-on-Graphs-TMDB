{
 "cells": [
  {
   "attachments": {},
   "cell_type": "markdown",
   "metadata": {},
   "source": [
    "# TMDB 5000 EDA "
   ]
  },
  {
   "cell_type": "code",
   "execution_count": 19,
   "metadata": {},
   "outputs": [],
   "source": [
    "import pandas as pd\n",
    "import numpy as np\n",
    "import json\n",
    "import matplotlib.pyplot as plt"
   ]
  },
  {
   "attachments": {},
   "cell_type": "markdown",
   "metadata": {},
   "source": [
    "## Credits \n",
    "### Cast"
   ]
  },
  {
   "cell_type": "code",
   "execution_count": 2,
   "metadata": {},
   "outputs": [],
   "source": [
    "credits = pd.read_csv(\"tmp/raw/tmdb_5000_credits.csv\")"
   ]
  },
  {
   "cell_type": "code",
   "execution_count": 3,
   "metadata": {},
   "outputs": [],
   "source": [
    "actor_counts = {}\n",
    "actor_names = {}\n",
    "# Iterate over each row in the DataFrame\n",
    "for index, row in credits.iterrows():\n",
    "    cast_list = json.loads(row['cast'])  # Parse the JSON cast list\n",
    "    actors = [(entry['id'], entry['name']) for entry in cast_list]  # Extract actor names\n",
    "    \n",
    "    # Update actor counts dictionary\n",
    "    for actor_id, actor_name in actors:\n",
    "        actor_counts[actor_id] = actor_counts.get(actor_id, 0) + 1\n",
    "        actor_names[actor_id] = actor_name\n"
   ]
  },
  {
   "cell_type": "code",
   "execution_count": 4,
   "metadata": {},
   "outputs": [
    {
     "data": {
      "text/html": [
       "<div>\n",
       "<style scoped>\n",
       "    .dataframe tbody tr th:only-of-type {\n",
       "        vertical-align: middle;\n",
       "    }\n",
       "\n",
       "    .dataframe tbody tr th {\n",
       "        vertical-align: top;\n",
       "    }\n",
       "\n",
       "    .dataframe thead th {\n",
       "        text-align: right;\n",
       "    }\n",
       "</style>\n",
       "<table border=\"1\" class=\"dataframe\">\n",
       "  <thead>\n",
       "    <tr style=\"text-align: right;\">\n",
       "      <th></th>\n",
       "      <th>actor_id</th>\n",
       "      <th>movie_count</th>\n",
       "      <th>actor_name</th>\n",
       "    </tr>\n",
       "  </thead>\n",
       "  <tbody>\n",
       "    <tr>\n",
       "      <th>541</th>\n",
       "      <td>2231</td>\n",
       "      <td>67</td>\n",
       "      <td>Samuel L. Jackson</td>\n",
       "    </tr>\n",
       "    <tr>\n",
       "      <th>8260</th>\n",
       "      <td>380</td>\n",
       "      <td>57</td>\n",
       "      <td>Robert De Niro</td>\n",
       "    </tr>\n",
       "    <tr>\n",
       "      <th>5427</th>\n",
       "      <td>62</td>\n",
       "      <td>51</td>\n",
       "      <td>Bruce Willis</td>\n",
       "    </tr>\n",
       "    <tr>\n",
       "      <th>4008</th>\n",
       "      <td>1892</td>\n",
       "      <td>48</td>\n",
       "      <td>Matt Damon</td>\n",
       "    </tr>\n",
       "    <tr>\n",
       "      <th>205</th>\n",
       "      <td>192</td>\n",
       "      <td>46</td>\n",
       "      <td>Morgan Freeman</td>\n",
       "    </tr>\n",
       "    <tr>\n",
       "      <th>...</th>\n",
       "      <td>...</td>\n",
       "      <td>...</td>\n",
       "      <td>...</td>\n",
       "    </tr>\n",
       "    <tr>\n",
       "      <th>25047</th>\n",
       "      <td>12820</td>\n",
       "      <td>1</td>\n",
       "      <td>Belinda Mayne</td>\n",
       "    </tr>\n",
       "    <tr>\n",
       "      <th>25048</th>\n",
       "      <td>1220237</td>\n",
       "      <td>1</td>\n",
       "      <td>Todd Carty</td>\n",
       "    </tr>\n",
       "    <tr>\n",
       "      <th>25050</th>\n",
       "      <td>1747343</td>\n",
       "      <td>1</td>\n",
       "      <td>Bronco McLoughlin</td>\n",
       "    </tr>\n",
       "    <tr>\n",
       "      <th>25052</th>\n",
       "      <td>1747344</td>\n",
       "      <td>1</td>\n",
       "      <td>Gerard Naprous</td>\n",
       "    </tr>\n",
       "    <tr>\n",
       "      <th>54587</th>\n",
       "      <td>155007</td>\n",
       "      <td>1</td>\n",
       "      <td>Bill D'Elia</td>\n",
       "    </tr>\n",
       "  </tbody>\n",
       "</table>\n",
       "<p>54588 rows × 3 columns</p>\n",
       "</div>"
      ],
      "text/plain": [
       "       actor_id  movie_count         actor_name\n",
       "541        2231           67  Samuel L. Jackson\n",
       "8260        380           57     Robert De Niro\n",
       "5427         62           51       Bruce Willis\n",
       "4008       1892           48         Matt Damon\n",
       "205         192           46     Morgan Freeman\n",
       "...         ...          ...                ...\n",
       "25047     12820            1      Belinda Mayne\n",
       "25048   1220237            1         Todd Carty\n",
       "25050   1747343            1  Bronco McLoughlin\n",
       "25052   1747344            1     Gerard Naprous\n",
       "54587    155007            1        Bill D'Elia\n",
       "\n",
       "[54588 rows x 3 columns]"
      ]
     },
     "execution_count": 4,
     "metadata": {},
     "output_type": "execute_result"
    }
   ],
   "source": [
    "actor_movies = pd.DataFrame({'actor_id': list(actor_counts.keys()), 'movie_count': list(actor_counts.values())})\n",
    "actor_movies['actor_name'] = actor_movies['actor_id'].apply(lambda x: actor_names[x])\n",
    "actor_movies.sort_values(by='movie_count', ascending=False)"
   ]
  },
  {
   "cell_type": "code",
   "execution_count": 5,
   "metadata": {},
   "outputs": [
    {
     "data": {
      "text/plain": [
       "1     0.713105\n",
       "2     0.135396\n",
       "3     0.053931\n",
       "4     0.028413\n",
       "5     0.015461\n",
       "6     0.011083\n",
       "7     0.007419\n",
       "8     0.005697\n",
       "9     0.005203\n",
       "10    0.003810\n",
       "Name: movie_count, dtype: float64"
      ]
     },
     "execution_count": 5,
     "metadata": {},
     "output_type": "execute_result"
    }
   ],
   "source": [
    "actor_movies[\"movie_count\"].value_counts(normalize=True).head(10)"
   ]
  },
  {
   "attachments": {},
   "cell_type": "markdown",
   "metadata": {},
   "source": [
    "More than 70% of actors appear in only one movie in the dataset. We will limit our analysis to actors who have appeared in at least 2 movies. It will simplify our analysis and will also make it more relevant."
   ]
  },
  {
   "cell_type": "code",
   "execution_count": 6,
   "metadata": {},
   "outputs": [],
   "source": [
    "actors_multiple_films = [actor_id for actor_id, count in actor_counts.items() if count > 1]"
   ]
  },
  {
   "cell_type": "code",
   "execution_count": 7,
   "metadata": {},
   "outputs": [],
   "source": [
    "credits['cast'] = credits['cast'].apply(lambda x: json.dumps([entry for entry in json.loads(x) if entry['id'] in actors_multiple_films]))"
   ]
  },
  {
   "attachments": {},
   "cell_type": "markdown",
   "metadata": {},
   "source": [
    "### Crew"
   ]
  },
  {
   "cell_type": "code",
   "execution_count": 8,
   "metadata": {},
   "outputs": [],
   "source": [
    "crew_counts = {}\n",
    "crew_names = {}\n",
    "# Iterate over each row in the DataFrame\n",
    "for index, row in credits.iterrows():\n",
    "    crew_list = json.loads(row['crew'])  # Parse the JSON cast list\n",
    "    crew_members = [(entry['id'], entry['name']) for entry in crew_list]  # Extract actor names\n",
    "    \n",
    "    # Update actor counts dictionary\n",
    "    for person_id, person_name in crew_members:\n",
    "        crew_counts[person_id] = crew_counts.get(person_id, 0) + 1\n",
    "        crew_names[person_id] = person_name\n"
   ]
  },
  {
   "cell_type": "code",
   "execution_count": 9,
   "metadata": {},
   "outputs": [
    {
     "data": {
      "text/html": [
       "<div>\n",
       "<style scoped>\n",
       "    .dataframe tbody tr th:only-of-type {\n",
       "        vertical-align: middle;\n",
       "    }\n",
       "\n",
       "    .dataframe tbody tr th {\n",
       "        vertical-align: top;\n",
       "    }\n",
       "\n",
       "    .dataframe thead th {\n",
       "        text-align: right;\n",
       "    }\n",
       "</style>\n",
       "<table border=\"1\" class=\"dataframe\">\n",
       "  <thead>\n",
       "    <tr style=\"text-align: right;\">\n",
       "      <th></th>\n",
       "      <th>person_id</th>\n",
       "      <th>movie_count</th>\n",
       "      <th>person_name</th>\n",
       "    </tr>\n",
       "  </thead>\n",
       "  <tbody>\n",
       "    <tr>\n",
       "      <th>10955</th>\n",
       "      <td>2294</td>\n",
       "      <td>104</td>\n",
       "      <td>Robert Rodriguez</td>\n",
       "    </tr>\n",
       "    <tr>\n",
       "      <th>1210</th>\n",
       "      <td>488</td>\n",
       "      <td>84</td>\n",
       "      <td>Steven Spielberg</td>\n",
       "    </tr>\n",
       "    <tr>\n",
       "      <th>6578</th>\n",
       "      <td>2952</td>\n",
       "      <td>83</td>\n",
       "      <td>Avy Kaufman</td>\n",
       "    </tr>\n",
       "    <tr>\n",
       "      <th>3440</th>\n",
       "      <td>5914</td>\n",
       "      <td>82</td>\n",
       "      <td>Mary Vernieu</td>\n",
       "    </tr>\n",
       "    <tr>\n",
       "      <th>3519</th>\n",
       "      <td>3965</td>\n",
       "      <td>75</td>\n",
       "      <td>Deborah Aquila</td>\n",
       "    </tr>\n",
       "    <tr>\n",
       "      <th>...</th>\n",
       "      <td>...</td>\n",
       "      <td>...</td>\n",
       "      <td>...</td>\n",
       "    </tr>\n",
       "    <tr>\n",
       "      <th>30721</th>\n",
       "      <td>1720844</td>\n",
       "      <td>1</td>\n",
       "      <td>Phil Pham</td>\n",
       "    </tr>\n",
       "    <tr>\n",
       "      <th>30720</th>\n",
       "      <td>1720842</td>\n",
       "      <td>1</td>\n",
       "      <td>Curt Frisk</td>\n",
       "    </tr>\n",
       "    <tr>\n",
       "      <th>30719</th>\n",
       "      <td>1720840</td>\n",
       "      <td>1</td>\n",
       "      <td>Beth Ostermann</td>\n",
       "    </tr>\n",
       "    <tr>\n",
       "      <th>30718</th>\n",
       "      <td>1720839</td>\n",
       "      <td>1</td>\n",
       "      <td>Mario Dumont</td>\n",
       "    </tr>\n",
       "    <tr>\n",
       "      <th>52884</th>\n",
       "      <td>997560</td>\n",
       "      <td>1</td>\n",
       "      <td>Brett Winn</td>\n",
       "    </tr>\n",
       "  </tbody>\n",
       "</table>\n",
       "<p>52885 rows × 3 columns</p>\n",
       "</div>"
      ],
      "text/plain": [
       "       person_id  movie_count       person_name\n",
       "10955       2294          104  Robert Rodriguez\n",
       "1210         488           84  Steven Spielberg\n",
       "6578        2952           83       Avy Kaufman\n",
       "3440        5914           82      Mary Vernieu\n",
       "3519        3965           75    Deborah Aquila\n",
       "...          ...          ...               ...\n",
       "30721    1720844            1         Phil Pham\n",
       "30720    1720842            1        Curt Frisk\n",
       "30719    1720840            1    Beth Ostermann\n",
       "30718    1720839            1      Mario Dumont\n",
       "52884     997560            1        Brett Winn\n",
       "\n",
       "[52885 rows x 3 columns]"
      ]
     },
     "execution_count": 9,
     "metadata": {},
     "output_type": "execute_result"
    }
   ],
   "source": [
    "crew_movies = pd.DataFrame({'person_id': list(crew_counts.keys()), 'movie_count': list(crew_counts.values())})\n",
    "crew_movies['person_name'] = crew_movies['person_id'].apply(lambda x: crew_names[x])\n",
    "crew_movies.sort_values(by='movie_count', ascending=False)"
   ]
  },
  {
   "cell_type": "code",
   "execution_count": 10,
   "metadata": {},
   "outputs": [
    {
     "data": {
      "text/plain": [
       "1     0.589638\n",
       "2     0.169367\n",
       "3     0.077262\n",
       "4     0.044228\n",
       "5     0.029044\n",
       "6     0.019646\n",
       "7     0.013841\n",
       "8     0.010646\n",
       "9     0.009133\n",
       "10    0.007261\n",
       "Name: movie_count, dtype: float64"
      ]
     },
     "execution_count": 10,
     "metadata": {},
     "output_type": "execute_result"
    }
   ],
   "source": [
    "crew_movies[\"movie_count\"].value_counts(normalize=True).head(10)"
   ]
  },
  {
   "attachments": {},
   "cell_type": "markdown",
   "metadata": {},
   "source": [
    "Almost 59% of crew members worked on only one movie in the dataset. Similarly to what we did for the cast, we will limit our analysis to crew members who have worked on at least 2 movies."
   ]
  },
  {
   "cell_type": "code",
   "execution_count": 11,
   "metadata": {},
   "outputs": [],
   "source": [
    "crew_multiple_films = [person_id for person_id, count in crew_counts.items() if count > 1]"
   ]
  },
  {
   "cell_type": "code",
   "execution_count": 12,
   "metadata": {},
   "outputs": [],
   "source": [
    "credits['crew'] = credits['crew'].apply(lambda x: json.dumps([entry for entry in json.loads(x) if entry['id'] in crew_multiple_films]))"
   ]
  },
  {
   "attachments": {},
   "cell_type": "markdown",
   "metadata": {},
   "source": [
    "## Movies"
   ]
  },
  {
   "cell_type": "code",
   "execution_count": 13,
   "metadata": {},
   "outputs": [],
   "source": [
    "movies = pd.read_csv(\"tmp/raw/tmdb_5000_movies.csv\")"
   ]
  },
  {
   "attachments": {},
   "cell_type": "markdown",
   "metadata": {},
   "source": [
    "### Revenue \n",
    "Removing the movies with no revenue"
   ]
  },
  {
   "cell_type": "code",
   "execution_count": 14,
   "metadata": {},
   "outputs": [
    {
     "data": {
      "text/plain": [
       "(1427, 0.29710597543202166)"
      ]
     },
     "execution_count": 14,
     "metadata": {},
     "output_type": "execute_result"
    }
   ],
   "source": [
    "(movies[\"revenue\"] == 0).sum(), (movies[\"revenue\"] == 0).mean()"
   ]
  },
  {
   "attachments": {},
   "cell_type": "markdown",
   "metadata": {},
   "source": [
    "There are 1427 movies in the dataset with revenue equal to 0 (about 30% of all movies). We will remove them from the dataset as based on our research, these appear to be errors in the data or missing values are labeled as such. This also allows us to reduce the size of the data. "
   ]
  },
  {
   "cell_type": "code",
   "execution_count": 15,
   "metadata": {},
   "outputs": [],
   "source": [
    "movies_to_keep = [movie[\"id\"] for i, movie in movies.iterrows() if movie[\"revenue\"] > 0]\n",
    "movies = movies[movies[\"id\"].isin(movies_to_keep)].reset_index(drop=True)\n",
    "credits = credits[credits[\"movie_id\"].isin(movies_to_keep)].reset_index(drop=True)"
   ]
  },
  {
   "attachments": {},
   "cell_type": "markdown",
   "metadata": {},
   "source": [
    "As the distribution of revenue is highly skewed, we will use the log of revenue as our target variable. "
   ]
  },
  {
   "cell_type": "code",
   "execution_count": 25,
   "metadata": {},
   "outputs": [
    {
     "data": {
      "image/png": "[encoded data removed]",
      "text/plain": [
       "<Figure size 432x288 with 1 Axes>"
      ]
     },
     "metadata": {
      "needs_background": "light"
     },
     "output_type": "display_data"
    }
   ],
   "source": [
    "movies[\"revenue\"].hist(bins=50)\n",
    "plt.show()"
   ]
  },
  {
   "cell_type": "code",
   "execution_count": 26,
   "metadata": {},
   "outputs": [
    {
     "data": {
      "text/plain": [
       "<AxesSubplot:>"
      ]
     },
     "execution_count": 26,
     "metadata": {},
     "output_type": "execute_result"
    },
    {
     "data": {
      "image/png": "[encoded data removed]",
      "text/plain": [
       "<Figure size 432x288 with 1 Axes>"
      ]
     },
     "metadata": {
      "needs_background": "light"
     },
     "output_type": "display_data"
    }
   ],
   "source": [
    "np.log(movies[\"revenue\"]).hist(bins=50)"
   ]
  },
  {
   "attachments": {},
   "cell_type": "markdown",
   "metadata": {},
   "source": [
    "It can be seen that there are some movies with visibly lower revenue than the rest. We will remove these movies as they are likely to be outliers."
   ]
  },
  {
   "cell_type": "code",
   "execution_count": 27,
   "metadata": {},
   "outputs": [
    {
     "data": {
      "text/html": [
       "<style type=\"text/css\">\n",
       "</style>\n",
       "<table id=\"T_f3742\">\n",
       "  <thead>\n",
       "    <tr>\n",
       "      <th class=\"blank level0\" >&nbsp;</th>\n",
       "      <th id=\"T_f3742_level0_col0\" class=\"col_heading level0 col0\" >title</th>\n",
       "      <th id=\"T_f3742_level0_col1\" class=\"col_heading level0 col1\" >revenue</th>\n",
       "    </tr>\n",
       "  </thead>\n",
       "  <tbody>\n",
       "    <tr>\n",
       "      <th id=\"T_f3742_level0_row0\" class=\"row_heading level0 row0\" >2731</th>\n",
       "      <td id=\"T_f3742_row0_col0\" class=\"data row0 col0\" >Split Second</td>\n",
       "      <td id=\"T_f3742_row0_col1\" class=\"data row0 col1\" >$5</td>\n",
       "    </tr>\n",
       "    <tr>\n",
       "      <th id=\"T_f3742_level0_row1\" class=\"row_heading level0 row1\" >3014</th>\n",
       "      <td id=\"T_f3742_row1_col0\" class=\"data row1 col0\" >Dreaming of Joseph Lees</td>\n",
       "      <td id=\"T_f3742_row1_col1\" class=\"data row1 col1\" >$7</td>\n",
       "    </tr>\n",
       "    <tr>\n",
       "      <th id=\"T_f3742_level0_row2\" class=\"row_heading level0 row2\" >2753</th>\n",
       "      <td id=\"T_f3742_row2_col0\" class=\"data row2 col0\" >Bran Nue Dae</td>\n",
       "      <td id=\"T_f3742_row2_col1\" class=\"data row2 col1\" >$7</td>\n",
       "    </tr>\n",
       "    <tr>\n",
       "      <th id=\"T_f3742_level0_row3\" class=\"row_heading level0 row3\" >2760</th>\n",
       "      <td id=\"T_f3742_row3_col0\" class=\"data row3 col0\" >Bats</td>\n",
       "      <td id=\"T_f3742_row3_col1\" class=\"data row3 col1\" >$10</td>\n",
       "    </tr>\n",
       "    <tr>\n",
       "      <th id=\"T_f3742_level0_row4\" class=\"row_heading level0 row4\" >2462</th>\n",
       "      <td id=\"T_f3742_row4_col0\" class=\"data row4 col0\" >F.I.S.T.</td>\n",
       "      <td id=\"T_f3742_row4_col1\" class=\"data row4 col1\" >$11</td>\n",
       "    </tr>\n",
       "    <tr>\n",
       "      <th id=\"T_f3742_level0_row5\" class=\"row_heading level0 row5\" >2586</th>\n",
       "      <td id=\"T_f3742_row5_col0\" class=\"data row5 col0\" >Of Horses and Men</td>\n",
       "      <td id=\"T_f3742_row5_col1\" class=\"data row5 col1\" >$11</td>\n",
       "    </tr>\n",
       "    <tr>\n",
       "      <th id=\"T_f3742_level0_row6\" class=\"row_heading level0 row6\" >1509</th>\n",
       "      <td id=\"T_f3742_row6_col0\" class=\"data row6 col0\" >Chasing Liberty</td>\n",
       "      <td id=\"T_f3742_row6_col1\" class=\"data row6 col1\" >$12</td>\n",
       "    </tr>\n",
       "    <tr>\n",
       "      <th id=\"T_f3742_level0_row7\" class=\"row_heading level0 row7\" >2148</th>\n",
       "      <td id=\"T_f3742_row7_col0\" class=\"data row7 col0\" >The Cookout</td>\n",
       "      <td id=\"T_f3742_row7_col1\" class=\"data row7 col1\" >$12</td>\n",
       "    </tr>\n",
       "    <tr>\n",
       "      <th id=\"T_f3742_level0_row8\" class=\"row_heading level0 row8\" >1721</th>\n",
       "      <td id=\"T_f3742_row8_col0\" class=\"data row8 col0\" >Angela's Ashes</td>\n",
       "      <td id=\"T_f3742_row8_col1\" class=\"data row8 col1\" >$13</td>\n",
       "    </tr>\n",
       "    <tr>\n",
       "      <th id=\"T_f3742_level0_row9\" class=\"row_heading level0 row9\" >1603</th>\n",
       "      <td id=\"T_f3742_row9_col0\" class=\"data row9 col0\" >The 51st State</td>\n",
       "      <td id=\"T_f3742_row9_col1\" class=\"data row9 col1\" >$14</td>\n",
       "    </tr>\n",
       "    <tr>\n",
       "      <th id=\"T_f3742_level0_row10\" class=\"row_heading level0 row10\" >2371</th>\n",
       "      <td id=\"T_f3742_row10_col0\" class=\"data row10 col0\" >Tae Guk Gi: The Brotherhood of War</td>\n",
       "      <td id=\"T_f3742_row10_col1\" class=\"data row10 col1\" >$15</td>\n",
       "    </tr>\n",
       "    <tr>\n",
       "      <th id=\"T_f3742_level0_row11\" class=\"row_heading level0 row11\" >3330</th>\n",
       "      <td id=\"T_f3742_row11_col0\" class=\"data row11 col0\" >The Prophecy</td>\n",
       "      <td id=\"T_f3742_row11_col1\" class=\"data row11 col1\" >$16</td>\n",
       "    </tr>\n",
       "    <tr>\n",
       "      <th id=\"T_f3742_level0_row12\" class=\"row_heading level0 row12\" >2429</th>\n",
       "      <td id=\"T_f3742_row12_col0\" class=\"data row12 col0\" >In the Cut</td>\n",
       "      <td id=\"T_f3742_row12_col1\" class=\"data row12 col1\" >$23</td>\n",
       "    </tr>\n",
       "    <tr>\n",
       "      <th id=\"T_f3742_level0_row13\" class=\"row_heading level0 row13\" >2812</th>\n",
       "      <td id=\"T_f3742_row13_col0\" class=\"data row13 col0\" >Lake of Fire</td>\n",
       "      <td id=\"T_f3742_row13_col1\" class=\"data row13 col1\" >$25</td>\n",
       "    </tr>\n",
       "    <tr>\n",
       "      <th id=\"T_f3742_level0_row14\" class=\"row_heading level0 row14\" >2881</th>\n",
       "      <td id=\"T_f3742_row14_col0\" class=\"data row14 col0\" >A Farewell to Arms</td>\n",
       "      <td id=\"T_f3742_row14_col1\" class=\"data row14 col1\" >$25</td>\n",
       "    </tr>\n",
       "    <tr>\n",
       "      <th id=\"T_f3742_level0_row15\" class=\"row_heading level0 row15\" >1839</th>\n",
       "      <td id=\"T_f3742_row15_col0\" class=\"data row15 col0\" >Death at a Funeral</td>\n",
       "      <td id=\"T_f3742_row15_col1\" class=\"data row15 col1\" >$46</td>\n",
       "    </tr>\n",
       "    <tr>\n",
       "      <th id=\"T_f3742_level0_row16\" class=\"row_heading level0 row16\" >2410</th>\n",
       "      <td id=\"T_f3742_row16_col0\" class=\"data row16 col0\" >My Baby's Daddy</td>\n",
       "      <td id=\"T_f3742_row16_col1\" class=\"data row16 col1\" >$51</td>\n",
       "    </tr>\n",
       "    <tr>\n",
       "      <th id=\"T_f3742_level0_row17\" class=\"row_heading level0 row17\" >2675</th>\n",
       "      <td id=\"T_f3742_row17_col0\" class=\"data row17 col0\" >When Did You Last See Your Father?</td>\n",
       "      <td id=\"T_f3742_row17_col1\" class=\"data row17 col1\" >$92</td>\n",
       "    </tr>\n",
       "    <tr>\n",
       "      <th id=\"T_f3742_level0_row18\" class=\"row_heading level0 row18\" >1432</th>\n",
       "      <td id=\"T_f3742_row18_col0\" class=\"data row18 col0\" >Rugrats in Paris: The Movie</td>\n",
       "      <td id=\"T_f3742_row18_col1\" class=\"data row18 col1\" >$103</td>\n",
       "    </tr>\n",
       "    <tr>\n",
       "      <th id=\"T_f3742_level0_row19\" class=\"row_heading level0 row19\" >2822</th>\n",
       "      <td id=\"T_f3742_row19_col0\" class=\"data row19 col0\" >Khiladi 786</td>\n",
       "      <td id=\"T_f3742_row19_col1\" class=\"data row19 col1\" >$126</td>\n",
       "    </tr>\n",
       "    <tr>\n",
       "      <th id=\"T_f3742_level0_row20\" class=\"row_heading level0 row20\" >3338</th>\n",
       "      <td id=\"T_f3742_row20_col0\" class=\"data row20 col0\" >I Married a Strange Person!</td>\n",
       "      <td id=\"T_f3742_row20_col1\" class=\"data row20 col1\" >$203</td>\n",
       "    </tr>\n",
       "    <tr>\n",
       "      <th id=\"T_f3742_level0_row21\" class=\"row_heading level0 row21\" >2832</th>\n",
       "      <td id=\"T_f3742_row21_col0\" class=\"data row21 col0\" >Irreversible</td>\n",
       "      <td id=\"T_f3742_row21_col1\" class=\"data row21 col1\" >$792</td>\n",
       "    </tr>\n",
       "    <tr>\n",
       "      <th id=\"T_f3742_level0_row22\" class=\"row_heading level0 row22\" >3213</th>\n",
       "      <td id=\"T_f3742_row22_col0\" class=\"data row22 col0\" >Eddie: The Sleepwalking Cannibal</td>\n",
       "      <td id=\"T_f3742_row22_col1\" class=\"data row22 col1\" >$1,632</td>\n",
       "    </tr>\n",
       "    <tr>\n",
       "      <th id=\"T_f3742_level0_row23\" class=\"row_heading level0 row23\" >3114</th>\n",
       "      <td id=\"T_f3742_row23_col0\" class=\"data row23 col0\" >Mi America</td>\n",
       "      <td id=\"T_f3742_row23_col1\" class=\"data row23 col1\" >$3,330</td>\n",
       "    </tr>\n",
       "    <tr>\n",
       "      <th id=\"T_f3742_level0_row24\" class=\"row_heading level0 row24\" >1788</th>\n",
       "      <td id=\"T_f3742_row24_col0\" class=\"data row24 col0\" >The Adventurer: The Curse of the Midas Box</td>\n",
       "      <td id=\"T_f3742_row24_col1\" class=\"data row24 col1\" >$6,399</td>\n",
       "    </tr>\n",
       "    <tr>\n",
       "      <th id=\"T_f3742_level0_row25\" class=\"row_heading level0 row25\" >3268</th>\n",
       "      <td id=\"T_f3742_row25_col0\" class=\"data row25 col0\" >Special</td>\n",
       "      <td id=\"T_f3742_row25_col1\" class=\"data row25 col1\" >$7,202</td>\n",
       "    </tr>\n",
       "    <tr>\n",
       "      <th id=\"T_f3742_level0_row26\" class=\"row_heading level0 row26\" >2585</th>\n",
       "      <td id=\"T_f3742_row26_col0\" class=\"data row26 col0\" >Janky Promoters</td>\n",
       "      <td id=\"T_f3742_row26_col1\" class=\"data row26 col1\" >$9,069</td>\n",
       "    </tr>\n",
       "    <tr>\n",
       "      <th id=\"T_f3742_level0_row27\" class=\"row_heading level0 row27\" >3369</th>\n",
       "      <td id=\"T_f3742_row27_col0\" class=\"data row27 col0\" >Down Terrace</td>\n",
       "      <td id=\"T_f3742_row27_col1\" class=\"data row27 col1\" >$10,000</td>\n",
       "    </tr>\n",
       "    <tr>\n",
       "      <th id=\"T_f3742_level0_row28\" class=\"row_heading level0 row28\" >3267</th>\n",
       "      <td id=\"T_f3742_row28_col0\" class=\"data row28 col0\" >Alone With Her</td>\n",
       "      <td id=\"T_f3742_row28_col1\" class=\"data row28 col1\" >$10,018</td>\n",
       "    </tr>\n",
       "    <tr>\n",
       "      <th id=\"T_f3742_level0_row29\" class=\"row_heading level0 row29\" >3292</th>\n",
       "      <td id=\"T_f3742_row29_col0\" class=\"data row29 col0\" >Naturally Native</td>\n",
       "      <td id=\"T_f3742_row29_col1\" class=\"data row29 col1\" >$10,508</td>\n",
       "    </tr>\n",
       "  </tbody>\n",
       "</table>\n"
      ],
      "text/plain": [
       "<pandas.io.formats.style.Styler at 0x10510e230>"
      ]
     },
     "execution_count": 27,
     "metadata": {},
     "output_type": "execute_result"
    }
   ],
   "source": [
    "movies.sort_values(by=\"revenue\", ascending=True)[[\"title\", \"revenue\"]].head(30).style.format({\"revenue\": \"${:,.0f}\"})"
   ]
  },
  {
   "cell_type": "code",
   "execution_count": 32,
   "metadata": {},
   "outputs": [
    {
     "data": {
      "text/plain": [
       "192"
      ]
     },
     "execution_count": 32,
     "metadata": {},
     "output_type": "execute_result"
    }
   ],
   "source": [
    "(movies[\"revenue\"] < 1_000_000).sum()"
   ]
  },
  {
   "cell_type": "code",
   "execution_count": 76,
   "metadata": {},
   "outputs": [
    {
     "data": {
      "text/html": [
       "<div>\n",
       "<style scoped>\n",
       "    .dataframe tbody tr th:only-of-type {\n",
       "        vertical-align: middle;\n",
       "    }\n",
       "\n",
       "    .dataframe tbody tr th {\n",
       "        vertical-align: top;\n",
       "    }\n",
       "\n",
       "    .dataframe thead th {\n",
       "        text-align: right;\n",
       "    }\n",
       "</style>\n",
       "<table border=\"1\" class=\"dataframe\">\n",
       "  <thead>\n",
       "    <tr style=\"text-align: right;\">\n",
       "      <th></th>\n",
       "      <th>title</th>\n",
       "      <th>popularity</th>\n",
       "    </tr>\n",
       "  </thead>\n",
       "  <tbody>\n",
       "    <tr>\n",
       "      <th>3051</th>\n",
       "      <td>Woman Thou Art Loosed</td>\n",
       "      <td>0.019984</td>\n",
       "    </tr>\n",
       "    <tr>\n",
       "      <th>3144</th>\n",
       "      <td>The Book of Mormon Movie, Volume 1: The Journey</td>\n",
       "      <td>0.031947</td>\n",
       "    </tr>\n",
       "    <tr>\n",
       "      <th>2637</th>\n",
       "      <td>Limbo</td>\n",
       "      <td>0.034259</td>\n",
       "    </tr>\n",
       "    <tr>\n",
       "      <th>2487</th>\n",
       "      <td>There Goes My Baby</td>\n",
       "      <td>0.037073</td>\n",
       "    </tr>\n",
       "    <tr>\n",
       "      <th>3114</th>\n",
       "      <td>Mi America</td>\n",
       "      <td>0.039007</td>\n",
       "    </tr>\n",
       "    <tr>\n",
       "      <th>2794</th>\n",
       "      <td>Dolphins and Whales: Tribes of the Ocean</td>\n",
       "      <td>0.041651</td>\n",
       "    </tr>\n",
       "    <tr>\n",
       "      <th>3261</th>\n",
       "      <td>Fiza</td>\n",
       "      <td>0.043023</td>\n",
       "    </tr>\n",
       "    <tr>\n",
       "      <th>2753</th>\n",
       "      <td>Bran Nue Dae</td>\n",
       "      <td>0.050456</td>\n",
       "    </tr>\n",
       "    <tr>\n",
       "      <th>3331</th>\n",
       "      <td>Ayurveda: Art of Being</td>\n",
       "      <td>0.055868</td>\n",
       "    </tr>\n",
       "    <tr>\n",
       "      <th>2014</th>\n",
       "      <td>The Nutcracker</td>\n",
       "      <td>0.068228</td>\n",
       "    </tr>\n",
       "    <tr>\n",
       "      <th>3211</th>\n",
       "      <td>Journey from the Fall</td>\n",
       "      <td>0.072066</td>\n",
       "    </tr>\n",
       "    <tr>\n",
       "      <th>3226</th>\n",
       "      <td>Pink Ribbons, Inc.</td>\n",
       "      <td>0.097913</td>\n",
       "    </tr>\n",
       "    <tr>\n",
       "      <th>3302</th>\n",
       "      <td>Sholem Aleichem: Laughing In The Darkness</td>\n",
       "      <td>0.109579</td>\n",
       "    </tr>\n",
       "    <tr>\n",
       "      <th>2822</th>\n",
       "      <td>Khiladi 786</td>\n",
       "      <td>0.114342</td>\n",
       "    </tr>\n",
       "    <tr>\n",
       "      <th>3014</th>\n",
       "      <td>Dreaming of Joseph Lees</td>\n",
       "      <td>0.116150</td>\n",
       "    </tr>\n",
       "    <tr>\n",
       "      <th>2583</th>\n",
       "      <td>Free Style</td>\n",
       "      <td>0.122874</td>\n",
       "    </tr>\n",
       "    <tr>\n",
       "      <th>3343</th>\n",
       "      <td>Burn</td>\n",
       "      <td>0.126676</td>\n",
       "    </tr>\n",
       "    <tr>\n",
       "      <th>3355</th>\n",
       "      <td>Sweet Sweetback's Baadasssss Song</td>\n",
       "      <td>0.132878</td>\n",
       "    </tr>\n",
       "    <tr>\n",
       "      <th>3184</th>\n",
       "      <td>N-Secure</td>\n",
       "      <td>0.134560</td>\n",
       "    </tr>\n",
       "    <tr>\n",
       "      <th>3213</th>\n",
       "      <td>Eddie: The Sleepwalking Cannibal</td>\n",
       "      <td>0.143784</td>\n",
       "    </tr>\n",
       "    <tr>\n",
       "      <th>985</th>\n",
       "      <td>Inchon</td>\n",
       "      <td>0.146783</td>\n",
       "    </tr>\n",
       "    <tr>\n",
       "      <th>1930</th>\n",
       "      <td>Under the Rainbow</td>\n",
       "      <td>0.173964</td>\n",
       "    </tr>\n",
       "    <tr>\n",
       "      <th>3269</th>\n",
       "      <td>Charly</td>\n",
       "      <td>0.178689</td>\n",
       "    </tr>\n",
       "    <tr>\n",
       "      <th>3111</th>\n",
       "      <td>The Valley of Decision</td>\n",
       "      <td>0.181300</td>\n",
       "    </tr>\n",
       "    <tr>\n",
       "      <th>3047</th>\n",
       "      <td>Trippin'</td>\n",
       "      <td>0.185373</td>\n",
       "    </tr>\n",
       "    <tr>\n",
       "      <th>3373</th>\n",
       "      <td>Cure</td>\n",
       "      <td>0.212443</td>\n",
       "    </tr>\n",
       "    <tr>\n",
       "      <th>2809</th>\n",
       "      <td>The 5th Quarter</td>\n",
       "      <td>0.215464</td>\n",
       "    </tr>\n",
       "    <tr>\n",
       "      <th>2248</th>\n",
       "      <td>The In Crowd</td>\n",
       "      <td>0.249245</td>\n",
       "    </tr>\n",
       "    <tr>\n",
       "      <th>3155</th>\n",
       "      <td>Roadside Romeo</td>\n",
       "      <td>0.253595</td>\n",
       "    </tr>\n",
       "    <tr>\n",
       "      <th>2667</th>\n",
       "      <td>The Inkwell</td>\n",
       "      <td>0.269661</td>\n",
       "    </tr>\n",
       "  </tbody>\n",
       "</table>\n",
       "</div>"
      ],
      "text/plain": [
       "                                                title  popularity\n",
       "3051                            Woman Thou Art Loosed    0.019984\n",
       "3144  The Book of Mormon Movie, Volume 1: The Journey    0.031947\n",
       "2637                                            Limbo    0.034259\n",
       "2487                               There Goes My Baby    0.037073\n",
       "3114                                       Mi America    0.039007\n",
       "2794         Dolphins and Whales: Tribes of the Ocean    0.041651\n",
       "3261                                             Fiza    0.043023\n",
       "2753                                     Bran Nue Dae    0.050456\n",
       "3331                           Ayurveda: Art of Being    0.055868\n",
       "2014                                   The Nutcracker    0.068228\n",
       "3211                            Journey from the Fall    0.072066\n",
       "3226                               Pink Ribbons, Inc.    0.097913\n",
       "3302        Sholem Aleichem: Laughing In The Darkness    0.109579\n",
       "2822                                      Khiladi 786    0.114342\n",
       "3014                          Dreaming of Joseph Lees    0.116150\n",
       "2583                                       Free Style    0.122874\n",
       "3343                                             Burn    0.126676\n",
       "3355                Sweet Sweetback's Baadasssss Song    0.132878\n",
       "3184                                         N-Secure    0.134560\n",
       "3213                 Eddie: The Sleepwalking Cannibal    0.143784\n",
       "985                                            Inchon    0.146783\n",
       "1930                                Under the Rainbow    0.173964\n",
       "3269                                           Charly    0.178689\n",
       "3111                           The Valley of Decision    0.181300\n",
       "3047                                         Trippin'    0.185373\n",
       "3373                                             Cure    0.212443\n",
       "2809                                  The 5th Quarter    0.215464\n",
       "2248                                     The In Crowd    0.249245\n",
       "3155                                   Roadside Romeo    0.253595\n",
       "2667                                      The Inkwell    0.269661"
      ]
     },
     "execution_count": 76,
     "metadata": {},
     "output_type": "execute_result"
    }
   ],
   "source": [
    "movies.sort_values(by = \"popularity\", ascending = True)[[\"title\", \"popularity\"]].head(30)"
   ]
  },
  {
   "cell_type": "code",
   "execution_count": 33,
   "metadata": {},
   "outputs": [
    {
     "data": {
      "text/plain": [
       "72"
      ]
     },
     "execution_count": 33,
     "metadata": {},
     "output_type": "execute_result"
    }
   ],
   "source": [
    "(movies[\"popularity\"] < 1).sum()"
   ]
  },
  {
   "attachments": {},
   "cell_type": "markdown",
   "metadata": {},
   "source": [
    "Moreover, there are also 72 movies with popularity less than 1. We will also remove them from the dataset as well."
   ]
  },
  {
   "cell_type": "code",
   "execution_count": 34,
   "metadata": {},
   "outputs": [],
   "source": [
    "movies_to_keep = [movie[\"id\"] for i, movie in movies.iterrows() if movie[\"revenue\"] >= 1_000_000 and movie[\"popularity\"] >= 1]"
   ]
  },
  {
   "cell_type": "code",
   "execution_count": 35,
   "metadata": {},
   "outputs": [],
   "source": [
    "movies = movies[movies[\"id\"].isin(movies_to_keep)].reset_index(drop=True)"
   ]
  },
  {
   "cell_type": "code",
   "execution_count": 36,
   "metadata": {},
   "outputs": [],
   "source": [
    "credits = credits[credits[\"movie_id\"].isin(movies_to_keep)].reset_index(drop=True)"
   ]
  },
  {
   "attachments": {},
   "cell_type": "markdown",
   "metadata": {},
   "source": [
    "### Feature engineering"
   ]
  },
  {
   "cell_type": "code",
   "execution_count": 37,
   "metadata": {},
   "outputs": [],
   "source": [
    "columns_to_drop = [\"homepage\", \"original_title\", \"status\"]\n",
    "movies = movies.drop(columns_to_drop, axis=1)"
   ]
  },
  {
   "cell_type": "code",
   "execution_count": 38,
   "metadata": {},
   "outputs": [],
   "source": [
    "movies[\"is_english\"] = movies[\"original_language\"].apply(lambda x: int(x == \"en\"))\n",
    "movies.drop(\"original_language\", axis=1, inplace=True)"
   ]
  },
  {
   "cell_type": "code",
   "execution_count": 39,
   "metadata": {},
   "outputs": [],
   "source": [
    "movies[\"release_year\"] = movies[\"release_date\"].str.slice(0, 4).astype(int)\n",
    "movies[\"release_month\"] = movies[\"release_date\"].str.slice(5, 7).astype(int)\n",
    "movies.drop(\"release_date\", axis=1, inplace=True)"
   ]
  },
  {
   "attachments": {},
   "cell_type": "markdown",
   "metadata": {},
   "source": [
    "Potential features to extract: \n",
    "- one hot encoding for genres\n",
    "- one hot encoding for production companies\n",
    "- one hot encoding for languages \n",
    "\n",
    "We can select only the most popular ones."
   ]
  },
  {
   "attachments": {},
   "cell_type": "markdown",
   "metadata": {},
   "source": [
    "#### genres"
   ]
  },
  {
   "cell_type": "code",
   "execution_count": 40,
   "metadata": {},
   "outputs": [],
   "source": [
    "genre_counts = {}\n",
    "for row in movies[\"genres\"]:\n",
    "    genres = json.loads(row)\n",
    "    for genre in genres:\n",
    "        genre_name = genre['name']\n",
    "        genre_counts[genre_name] = genre_counts.get(genre_name, 0) + 1"
   ]
  },
  {
   "cell_type": "code",
   "execution_count": 41,
   "metadata": {},
   "outputs": [
    {
     "data": {
      "text/plain": [
       "{'Action': 906,\n",
       " 'Adventure': 657,\n",
       " 'Fantasy': 339,\n",
       " 'Science Fiction': 416,\n",
       " 'Crime': 506,\n",
       " 'Drama': 1388,\n",
       " 'Thriller': 909,\n",
       " 'Animation': 183,\n",
       " 'Family': 368,\n",
       " 'Western': 55,\n",
       " 'Comedy': 1105,\n",
       " 'Romance': 560,\n",
       " 'Horror': 321,\n",
       " 'Mystery': 256,\n",
       " 'History': 140,\n",
       " 'War': 109,\n",
       " 'Music': 108,\n",
       " 'Documentary': 31,\n",
       " 'Foreign': 1}"
      ]
     },
     "execution_count": 41,
     "metadata": {},
     "output_type": "execute_result"
    }
   ],
   "source": [
    "genre_counts"
   ]
  },
  {
   "cell_type": "code",
   "execution_count": 42,
   "metadata": {},
   "outputs": [],
   "source": [
    "def check_genre(genres_list, specific_genre):\n",
    "    for genre in genres_list:\n",
    "        if genre[\"name\"] == specific_genre:\n",
    "            return True\n",
    "    return False\n",
    "\n",
    "# add one hot encoded genre columns\n",
    "for genre in genre_counts.keys():\n",
    "    if genre == \"Foreign\":\n",
    "         pass\n",
    "    else: \n",
    "        movies[genre] = movies[\"genres\"].apply(lambda x: check_genre(json.loads(x), genre)).astype(int)"
   ]
  },
  {
   "attachments": {},
   "cell_type": "markdown",
   "metadata": {},
   "source": [
    "#### languages"
   ]
  },
  {
   "cell_type": "code",
   "execution_count": 43,
   "metadata": {},
   "outputs": [],
   "source": [
    "spoken_languages = {}\n",
    "for row in movies[\"spoken_languages\"]:\n",
    "    languages = json.loads(row)\n",
    "    for lan in languages:\n",
    "        lan_iso = lan['iso_639_1']\n",
    "        spoken_languages[lan_iso] = spoken_languages.get(lan_iso, 0) + 1"
   ]
  },
  {
   "cell_type": "code",
   "execution_count": 44,
   "metadata": {},
   "outputs": [
    {
     "data": {
      "text/html": [
       "<div>\n",
       "<style scoped>\n",
       "    .dataframe tbody tr th:only-of-type {\n",
       "        vertical-align: middle;\n",
       "    }\n",
       "\n",
       "    .dataframe tbody tr th {\n",
       "        vertical-align: top;\n",
       "    }\n",
       "\n",
       "    .dataframe thead th {\n",
       "        text-align: right;\n",
       "    }\n",
       "</style>\n",
       "<table border=\"1\" class=\"dataframe\">\n",
       "  <thead>\n",
       "    <tr style=\"text-align: right;\">\n",
       "      <th></th>\n",
       "      <th>iso</th>\n",
       "      <th>count</th>\n",
       "    </tr>\n",
       "  </thead>\n",
       "  <tbody>\n",
       "    <tr>\n",
       "      <th>0</th>\n",
       "      <td>en</td>\n",
       "      <td>3055</td>\n",
       "    </tr>\n",
       "    <tr>\n",
       "      <th>2</th>\n",
       "      <td>fr</td>\n",
       "      <td>298</td>\n",
       "    </tr>\n",
       "    <tr>\n",
       "      <th>1</th>\n",
       "      <td>es</td>\n",
       "      <td>266</td>\n",
       "    </tr>\n",
       "    <tr>\n",
       "      <th>4</th>\n",
       "      <td>de</td>\n",
       "      <td>174</td>\n",
       "    </tr>\n",
       "    <tr>\n",
       "      <th>10</th>\n",
       "      <td>ru</td>\n",
       "      <td>149</td>\n",
       "    </tr>\n",
       "    <tr>\n",
       "      <th>3</th>\n",
       "      <td>it</td>\n",
       "      <td>140</td>\n",
       "    </tr>\n",
       "    <tr>\n",
       "      <th>7</th>\n",
       "      <td>zh</td>\n",
       "      <td>79</td>\n",
       "    </tr>\n",
       "    <tr>\n",
       "      <th>13</th>\n",
       "      <td>ja</td>\n",
       "      <td>78</td>\n",
       "    </tr>\n",
       "    <tr>\n",
       "      <th>20</th>\n",
       "      <td>ar</td>\n",
       "      <td>55</td>\n",
       "    </tr>\n",
       "    <tr>\n",
       "      <th>16</th>\n",
       "      <td>pt</td>\n",
       "      <td>49</td>\n",
       "    </tr>\n",
       "  </tbody>\n",
       "</table>\n",
       "</div>"
      ],
      "text/plain": [
       "   iso  count\n",
       "0   en   3055\n",
       "2   fr    298\n",
       "1   es    266\n",
       "4   de    174\n",
       "10  ru    149\n",
       "3   it    140\n",
       "7   zh     79\n",
       "13  ja     78\n",
       "20  ar     55\n",
       "16  pt     49"
      ]
     },
     "execution_count": 44,
     "metadata": {},
     "output_type": "execute_result"
    }
   ],
   "source": [
    "pd.DataFrame({\"iso\": list(spoken_languages.keys()), \"count\": list(spoken_languages.values())}).sort_values(by=\"count\", ascending=False).head(10)"
   ]
  },
  {
   "cell_type": "code",
   "execution_count": 45,
   "metadata": {},
   "outputs": [],
   "source": [
    "languages_to_keep = [\"fr\", \"es\", \"de\", \"ru\", \"it\", \"ja\", \"zh\"]"
   ]
  },
  {
   "cell_type": "code",
   "execution_count": 46,
   "metadata": {},
   "outputs": [],
   "source": [
    "def check_language(languages_list, specific_language):\n",
    "    for language in languages_list:\n",
    "        if language[\"iso_639_1\"] == specific_language:\n",
    "            return True\n",
    "    return False\n",
    "\n",
    "# add one hot encoded language columns\n",
    "for language in languages_to_keep:\n",
    "    movies[language] = movies[\"spoken_languages\"].apply(lambda x: check_language(json.loads(x), language)).astype(int)"
   ]
  },
  {
   "attachments": {},
   "cell_type": "markdown",
   "metadata": {},
   "source": [
    "#### production companies"
   ]
  },
  {
   "cell_type": "code",
   "execution_count": 47,
   "metadata": {},
   "outputs": [],
   "source": [
    "production_companies = {}\n",
    "for row in movies[\"production_companies\"]:\n",
    "    companies = json.loads(row)\n",
    "    for c in companies:\n",
    "        c_name = c['name']\n",
    "        production_companies[c_name] = production_companies.get(c_name, 0) + 1"
   ]
  },
  {
   "cell_type": "code",
   "execution_count": 48,
   "metadata": {},
   "outputs": [
    {
     "data": {
      "text/html": [
       "<div>\n",
       "<style scoped>\n",
       "    .dataframe tbody tr th:only-of-type {\n",
       "        vertical-align: middle;\n",
       "    }\n",
       "\n",
       "    .dataframe tbody tr th {\n",
       "        vertical-align: top;\n",
       "    }\n",
       "\n",
       "    .dataframe thead th {\n",
       "        text-align: right;\n",
       "    }\n",
       "</style>\n",
       "<table border=\"1\" class=\"dataframe\">\n",
       "  <thead>\n",
       "    <tr style=\"text-align: right;\">\n",
       "      <th></th>\n",
       "      <th>company</th>\n",
       "      <th>count</th>\n",
       "    </tr>\n",
       "  </thead>\n",
       "  <tbody>\n",
       "    <tr>\n",
       "      <th>11</th>\n",
       "      <td>Warner Bros.</td>\n",
       "      <td>282</td>\n",
       "    </tr>\n",
       "    <tr>\n",
       "      <th>52</th>\n",
       "      <td>Universal Pictures</td>\n",
       "      <td>270</td>\n",
       "    </tr>\n",
       "    <tr>\n",
       "      <th>38</th>\n",
       "      <td>Paramount Pictures</td>\n",
       "      <td>246</td>\n",
       "    </tr>\n",
       "    <tr>\n",
       "      <th>1</th>\n",
       "      <td>Twentieth Century Fox Film Corporation</td>\n",
       "      <td>203</td>\n",
       "    </tr>\n",
       "    <tr>\n",
       "      <th>7</th>\n",
       "      <td>Columbia Pictures</td>\n",
       "      <td>168</td>\n",
       "    </tr>\n",
       "    <tr>\n",
       "      <th>46</th>\n",
       "      <td>New Line Cinema</td>\n",
       "      <td>143</td>\n",
       "    </tr>\n",
       "    <tr>\n",
       "      <th>54</th>\n",
       "      <td>Relativity Media</td>\n",
       "      <td>100</td>\n",
       "    </tr>\n",
       "    <tr>\n",
       "      <th>4</th>\n",
       "      <td>Walt Disney Pictures</td>\n",
       "      <td>99</td>\n",
       "    </tr>\n",
       "    <tr>\n",
       "      <th>193</th>\n",
       "      <td>Touchstone Pictures</td>\n",
       "      <td>92</td>\n",
       "    </tr>\n",
       "    <tr>\n",
       "      <th>49</th>\n",
       "      <td>Metro-Goldwyn-Mayer (MGM)</td>\n",
       "      <td>89</td>\n",
       "    </tr>\n",
       "    <tr>\n",
       "      <th>250</th>\n",
       "      <td>Columbia Pictures Corporation</td>\n",
       "      <td>85</td>\n",
       "    </tr>\n",
       "    <tr>\n",
       "      <th>112</th>\n",
       "      <td>Village Roadshow Pictures</td>\n",
       "      <td>74</td>\n",
       "    </tr>\n",
       "    <tr>\n",
       "      <th>80</th>\n",
       "      <td>DreamWorks SKG</td>\n",
       "      <td>67</td>\n",
       "    </tr>\n",
       "    <tr>\n",
       "      <th>524</th>\n",
       "      <td>United Artists</td>\n",
       "      <td>64</td>\n",
       "    </tr>\n",
       "    <tr>\n",
       "      <th>384</th>\n",
       "      <td>Miramax Films</td>\n",
       "      <td>64</td>\n",
       "    </tr>\n",
       "    <tr>\n",
       "      <th>289</th>\n",
       "      <td>Regency Enterprises</td>\n",
       "      <td>62</td>\n",
       "    </tr>\n",
       "    <tr>\n",
       "      <th>2</th>\n",
       "      <td>Dune Entertainment</td>\n",
       "      <td>56</td>\n",
       "    </tr>\n",
       "    <tr>\n",
       "      <th>319</th>\n",
       "      <td>TriStar Pictures</td>\n",
       "      <td>50</td>\n",
       "    </tr>\n",
       "    <tr>\n",
       "      <th>1551</th>\n",
       "      <td>Fox Searchlight Pictures</td>\n",
       "      <td>48</td>\n",
       "    </tr>\n",
       "    <tr>\n",
       "      <th>478</th>\n",
       "      <td>Working Title Films</td>\n",
       "      <td>47</td>\n",
       "    </tr>\n",
       "  </tbody>\n",
       "</table>\n",
       "</div>"
      ],
      "text/plain": [
       "                                     company  count\n",
       "11                              Warner Bros.    282\n",
       "52                        Universal Pictures    270\n",
       "38                        Paramount Pictures    246\n",
       "1     Twentieth Century Fox Film Corporation    203\n",
       "7                          Columbia Pictures    168\n",
       "46                           New Line Cinema    143\n",
       "54                          Relativity Media    100\n",
       "4                       Walt Disney Pictures     99\n",
       "193                      Touchstone Pictures     92\n",
       "49                 Metro-Goldwyn-Mayer (MGM)     89\n",
       "250            Columbia Pictures Corporation     85\n",
       "112                Village Roadshow Pictures     74\n",
       "80                            DreamWorks SKG     67\n",
       "524                           United Artists     64\n",
       "384                            Miramax Films     64\n",
       "289                      Regency Enterprises     62\n",
       "2                         Dune Entertainment     56\n",
       "319                         TriStar Pictures     50\n",
       "1551                Fox Searchlight Pictures     48\n",
       "478                      Working Title Films     47"
      ]
     },
     "execution_count": 48,
     "metadata": {},
     "output_type": "execute_result"
    }
   ],
   "source": [
    "pd.DataFrame({'company': list(production_companies.keys()), 'count': list(production_companies.values())}).sort_values(by='count', ascending=False).head(20)"
   ]
  },
  {
   "cell_type": "code",
   "execution_count": 49,
   "metadata": {},
   "outputs": [],
   "source": [
    "production_companies_to_keep = [\"Warner Bros.\", \"Universal Pictures\", \"Paramount Pictures\", \"Twentieth Century Fox Film Corporation\", \"Columbia Pictures\", \"New Line Cinema\", \"Walt Disney Pictures\", \"Relativity Media\"]"
   ]
  },
  {
   "cell_type": "code",
   "execution_count": 50,
   "metadata": {},
   "outputs": [],
   "source": [
    "def check_company(companies_list, specific_company):\n",
    "    for company in companies_list:\n",
    "        if company[\"name\"] == specific_company:\n",
    "            return True\n",
    "    return False\n",
    "\n",
    "# add one hot encoded company columns\n",
    "for company in production_companies_to_keep:\n",
    "    movies[company] = movies[\"production_companies\"].apply(lambda x: check_company(json.loads(x), company)).astype(int)"
   ]
  },
  {
   "attachments": {},
   "cell_type": "markdown",
   "metadata": {},
   "source": [
    "#### overview"
   ]
  },
  {
   "cell_type": "code",
   "execution_count": 66,
   "metadata": {},
   "outputs": [],
   "source": [
    "import spacy\n",
    "import tqdm\n",
    "nlp = spacy.load('en_core_web_lg')"
   ]
  },
  {
   "cell_type": "code",
   "execution_count": 67,
   "metadata": {},
   "outputs": [
    {
     "name": "stderr",
     "output_type": "stream",
     "text": [
      "100%|██████████| 3145/3145 [00:38<00:00, 81.87it/s]\n"
     ]
    }
   ],
   "source": [
    "tqdm.tqdm.pandas()\n",
    "movies[\"overview\"] = movies[\"overview\"].progress_apply(lambda x: \" \".join([token.lemma_ for token in nlp(x)]))"
   ]
  },
  {
   "cell_type": "code",
   "execution_count": 68,
   "metadata": {},
   "outputs": [],
   "source": [
    "credits.to_csv(\"tmp/raw/tmdb_5000_credits_processed.csv\", index=False)\n",
    "movies.to_csv(\"tmp/raw/tmdb_5000_movies_processed.csv\", index=False)"
   ]
  },
  {
   "cell_type": "code",
   "execution_count": null,
   "metadata": {},
   "outputs": [],
   "source": []
  }
 ],
 "metadata": {
  "kernelspec": {
   "display_name": "Python 3",
   "language": "python",
   "name": "python3"
  },
  "language_info": {
   "codemirror_mode": {
    "name": "ipython",
    "version": 3
   },
   "file_extension": ".py",
   "mimetype": "text/x-python",
   "name": "python",
   "nbconvert_exporter": "python",
   "pygments_lexer": "ipython3",
   "version": "3.10.5"
  },
  "orig_nbformat": 4
 },
 "nbformat": 4,
 "nbformat_minor": 2
}
