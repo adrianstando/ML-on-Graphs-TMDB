{
 "cells": [
  {
   "attachments": {},
   "cell_type": "markdown",
   "metadata": {},
   "source": [
    "# TMDB 5000 EDA "
   ]
  },
  {
   "cell_type": "code",
   "execution_count": 1,
   "metadata": {},
   "outputs": [],
   "source": [
    "from dataset import TMDBDataset\n",
    "import pandas as pd\n",
    "import numpy as np\n",
    "import json\n",
    "from tqdm import tqdm"
   ]
  },
  {
   "attachments": {},
   "cell_type": "markdown",
   "metadata": {},
   "source": [
    "## Credits \n",
    "### Cast"
   ]
  },
  {
   "cell_type": "code",
   "execution_count": 2,
   "metadata": {},
   "outputs": [],
   "source": [
    "credits = pd.read_csv(\"tmp/raw/tmdb_5000_credits.csv\")"
   ]
  },
  {
   "cell_type": "code",
   "execution_count": 3,
   "metadata": {},
   "outputs": [],
   "source": [
    "actor_counts = {}\n",
    "actor_names = {}\n",
    "# Iterate over each row in the DataFrame\n",
    "for index, row in credits.iterrows():\n",
    "    cast_list = json.loads(row['cast'])  # Parse the JSON cast list\n",
    "    actors = [(entry['id'], entry['name']) for entry in cast_list]  # Extract actor names\n",
    "    \n",
    "    # Update actor counts dictionary\n",
    "    for actor_id, actor_name in actors:\n",
    "        actor_counts[actor_id] = actor_counts.get(actor_id, 0) + 1\n",
    "        actor_names[actor_id] = actor_name\n"
   ]
  },
  {
   "cell_type": "code",
   "execution_count": 4,
   "metadata": {},
   "outputs": [
    {
     "data": {
      "text/html": [
       "<div>\n",
       "<style scoped>\n",
       "    .dataframe tbody tr th:only-of-type {\n",
       "        vertical-align: middle;\n",
       "    }\n",
       "\n",
       "    .dataframe tbody tr th {\n",
       "        vertical-align: top;\n",
       "    }\n",
       "\n",
       "    .dataframe thead th {\n",
       "        text-align: right;\n",
       "    }\n",
       "</style>\n",
       "<table border=\"1\" class=\"dataframe\">\n",
       "  <thead>\n",
       "    <tr style=\"text-align: right;\">\n",
       "      <th></th>\n",
       "      <th>actor_id</th>\n",
       "      <th>movie_count</th>\n",
       "      <th>actor_name</th>\n",
       "    </tr>\n",
       "  </thead>\n",
       "  <tbody>\n",
       "    <tr>\n",
       "      <th>541</th>\n",
       "      <td>2231</td>\n",
       "      <td>67</td>\n",
       "      <td>Samuel L. Jackson</td>\n",
       "    </tr>\n",
       "    <tr>\n",
       "      <th>8260</th>\n",
       "      <td>380</td>\n",
       "      <td>57</td>\n",
       "      <td>Robert De Niro</td>\n",
       "    </tr>\n",
       "    <tr>\n",
       "      <th>5427</th>\n",
       "      <td>62</td>\n",
       "      <td>51</td>\n",
       "      <td>Bruce Willis</td>\n",
       "    </tr>\n",
       "    <tr>\n",
       "      <th>4008</th>\n",
       "      <td>1892</td>\n",
       "      <td>48</td>\n",
       "      <td>Matt Damon</td>\n",
       "    </tr>\n",
       "    <tr>\n",
       "      <th>205</th>\n",
       "      <td>192</td>\n",
       "      <td>46</td>\n",
       "      <td>Morgan Freeman</td>\n",
       "    </tr>\n",
       "    <tr>\n",
       "      <th>...</th>\n",
       "      <td>...</td>\n",
       "      <td>...</td>\n",
       "      <td>...</td>\n",
       "    </tr>\n",
       "    <tr>\n",
       "      <th>25047</th>\n",
       "      <td>12820</td>\n",
       "      <td>1</td>\n",
       "      <td>Belinda Mayne</td>\n",
       "    </tr>\n",
       "    <tr>\n",
       "      <th>25048</th>\n",
       "      <td>1220237</td>\n",
       "      <td>1</td>\n",
       "      <td>Todd Carty</td>\n",
       "    </tr>\n",
       "    <tr>\n",
       "      <th>25050</th>\n",
       "      <td>1747343</td>\n",
       "      <td>1</td>\n",
       "      <td>Bronco McLoughlin</td>\n",
       "    </tr>\n",
       "    <tr>\n",
       "      <th>25052</th>\n",
       "      <td>1747344</td>\n",
       "      <td>1</td>\n",
       "      <td>Gerard Naprous</td>\n",
       "    </tr>\n",
       "    <tr>\n",
       "      <th>54587</th>\n",
       "      <td>155007</td>\n",
       "      <td>1</td>\n",
       "      <td>Bill D'Elia</td>\n",
       "    </tr>\n",
       "  </tbody>\n",
       "</table>\n",
       "<p>54588 rows × 3 columns</p>\n",
       "</div>"
      ],
      "text/plain": [
       "       actor_id  movie_count         actor_name\n",
       "541        2231           67  Samuel L. Jackson\n",
       "8260        380           57     Robert De Niro\n",
       "5427         62           51       Bruce Willis\n",
       "4008       1892           48         Matt Damon\n",
       "205         192           46     Morgan Freeman\n",
       "...         ...          ...                ...\n",
       "25047     12820            1      Belinda Mayne\n",
       "25048   1220237            1         Todd Carty\n",
       "25050   1747343            1  Bronco McLoughlin\n",
       "25052   1747344            1     Gerard Naprous\n",
       "54587    155007            1        Bill D'Elia\n",
       "\n",
       "[54588 rows x 3 columns]"
      ]
     },
     "execution_count": 4,
     "metadata": {},
     "output_type": "execute_result"
    }
   ],
   "source": [
    "actor_movies = pd.DataFrame({'actor_id': list(actor_counts.keys()), 'movie_count': list(actor_counts.values())})\n",
    "actor_movies['actor_name'] = actor_movies['actor_id'].apply(lambda x: actor_names[x])\n",
    "actor_movies.sort_values(by='movie_count', ascending=False)"
   ]
  },
  {
   "cell_type": "code",
   "execution_count": 5,
   "metadata": {},
   "outputs": [
    {
     "data": {
      "text/plain": [
       "1     0.713105\n",
       "2     0.135396\n",
       "3     0.053931\n",
       "4     0.028413\n",
       "5     0.015461\n",
       "6     0.011083\n",
       "7     0.007419\n",
       "8     0.005697\n",
       "9     0.005203\n",
       "10    0.003810\n",
       "Name: movie_count, dtype: float64"
      ]
     },
     "execution_count": 5,
     "metadata": {},
     "output_type": "execute_result"
    }
   ],
   "source": [
    "actor_movies[\"movie_count\"].value_counts(normalize=True).head(10)"
   ]
  },
  {
   "attachments": {},
   "cell_type": "markdown",
   "metadata": {},
   "source": [
    "More than 70% of actors appear in only one movie in the dataset. We will limit our analysis to actors who have appeared in at least 2 movies. It will simplify our analysis and will also make it more relevant."
   ]
  },
  {
   "cell_type": "code",
   "execution_count": 6,
   "metadata": {},
   "outputs": [],
   "source": [
    "actors_multiple_films = [actor_id for actor_id, count in actor_counts.items() if count > 1]"
   ]
  },
  {
   "cell_type": "code",
   "execution_count": 7,
   "metadata": {},
   "outputs": [],
   "source": [
    "credits['cast'] = credits['cast'].apply(lambda x: json.dumps([entry for entry in json.loads(x) if entry['id'] in actors_multiple_films]))"
   ]
  },
  {
   "attachments": {},
   "cell_type": "markdown",
   "metadata": {},
   "source": [
    "### Crew"
   ]
  },
  {
   "cell_type": "code",
   "execution_count": 8,
   "metadata": {},
   "outputs": [],
   "source": [
    "crew_counts = {}\n",
    "crew_names = {}\n",
    "# Iterate over each row in the DataFrame\n",
    "for index, row in credits.iterrows():\n",
    "    crew_list = json.loads(row['crew'])  # Parse the JSON cast list\n",
    "    crew_members = [(entry['id'], entry['name']) for entry in crew_list]  # Extract actor names\n",
    "    \n",
    "    # Update actor counts dictionary\n",
    "    for person_id, person_name in crew_members:\n",
    "        crew_counts[person_id] = crew_counts.get(person_id, 0) + 1\n",
    "        crew_names[person_id] = person_name\n"
   ]
  },
  {
   "cell_type": "code",
   "execution_count": 9,
   "metadata": {},
   "outputs": [
    {
     "data": {
      "text/html": [
       "<div>\n",
       "<style scoped>\n",
       "    .dataframe tbody tr th:only-of-type {\n",
       "        vertical-align: middle;\n",
       "    }\n",
       "\n",
       "    .dataframe tbody tr th {\n",
       "        vertical-align: top;\n",
       "    }\n",
       "\n",
       "    .dataframe thead th {\n",
       "        text-align: right;\n",
       "    }\n",
       "</style>\n",
       "<table border=\"1\" class=\"dataframe\">\n",
       "  <thead>\n",
       "    <tr style=\"text-align: right;\">\n",
       "      <th></th>\n",
       "      <th>person_id</th>\n",
       "      <th>movie_count</th>\n",
       "      <th>person_name</th>\n",
       "    </tr>\n",
       "  </thead>\n",
       "  <tbody>\n",
       "    <tr>\n",
       "      <th>10955</th>\n",
       "      <td>2294</td>\n",
       "      <td>104</td>\n",
       "      <td>Robert Rodriguez</td>\n",
       "    </tr>\n",
       "    <tr>\n",
       "      <th>1210</th>\n",
       "      <td>488</td>\n",
       "      <td>84</td>\n",
       "      <td>Steven Spielberg</td>\n",
       "    </tr>\n",
       "    <tr>\n",
       "      <th>6578</th>\n",
       "      <td>2952</td>\n",
       "      <td>83</td>\n",
       "      <td>Avy Kaufman</td>\n",
       "    </tr>\n",
       "    <tr>\n",
       "      <th>3440</th>\n",
       "      <td>5914</td>\n",
       "      <td>82</td>\n",
       "      <td>Mary Vernieu</td>\n",
       "    </tr>\n",
       "    <tr>\n",
       "      <th>3519</th>\n",
       "      <td>3965</td>\n",
       "      <td>75</td>\n",
       "      <td>Deborah Aquila</td>\n",
       "    </tr>\n",
       "    <tr>\n",
       "      <th>...</th>\n",
       "      <td>...</td>\n",
       "      <td>...</td>\n",
       "      <td>...</td>\n",
       "    </tr>\n",
       "    <tr>\n",
       "      <th>30721</th>\n",
       "      <td>1720844</td>\n",
       "      <td>1</td>\n",
       "      <td>Phil Pham</td>\n",
       "    </tr>\n",
       "    <tr>\n",
       "      <th>30720</th>\n",
       "      <td>1720842</td>\n",
       "      <td>1</td>\n",
       "      <td>Curt Frisk</td>\n",
       "    </tr>\n",
       "    <tr>\n",
       "      <th>30719</th>\n",
       "      <td>1720840</td>\n",
       "      <td>1</td>\n",
       "      <td>Beth Ostermann</td>\n",
       "    </tr>\n",
       "    <tr>\n",
       "      <th>30718</th>\n",
       "      <td>1720839</td>\n",
       "      <td>1</td>\n",
       "      <td>Mario Dumont</td>\n",
       "    </tr>\n",
       "    <tr>\n",
       "      <th>52884</th>\n",
       "      <td>997560</td>\n",
       "      <td>1</td>\n",
       "      <td>Brett Winn</td>\n",
       "    </tr>\n",
       "  </tbody>\n",
       "</table>\n",
       "<p>52885 rows × 3 columns</p>\n",
       "</div>"
      ],
      "text/plain": [
       "       person_id  movie_count       person_name\n",
       "10955       2294          104  Robert Rodriguez\n",
       "1210         488           84  Steven Spielberg\n",
       "6578        2952           83       Avy Kaufman\n",
       "3440        5914           82      Mary Vernieu\n",
       "3519        3965           75    Deborah Aquila\n",
       "...          ...          ...               ...\n",
       "30721    1720844            1         Phil Pham\n",
       "30720    1720842            1        Curt Frisk\n",
       "30719    1720840            1    Beth Ostermann\n",
       "30718    1720839            1      Mario Dumont\n",
       "52884     997560            1        Brett Winn\n",
       "\n",
       "[52885 rows x 3 columns]"
      ]
     },
     "execution_count": 9,
     "metadata": {},
     "output_type": "execute_result"
    }
   ],
   "source": [
    "crew_movies = pd.DataFrame({'person_id': list(crew_counts.keys()), 'movie_count': list(crew_counts.values())})\n",
    "crew_movies['person_name'] = crew_movies['person_id'].apply(lambda x: crew_names[x])\n",
    "crew_movies.sort_values(by='movie_count', ascending=False)"
   ]
  },
  {
   "cell_type": "code",
   "execution_count": 10,
   "metadata": {},
   "outputs": [
    {
     "data": {
      "text/plain": [
       "1     0.589638\n",
       "2     0.169367\n",
       "3     0.077262\n",
       "4     0.044228\n",
       "5     0.029044\n",
       "6     0.019646\n",
       "7     0.013841\n",
       "8     0.010646\n",
       "9     0.009133\n",
       "10    0.007261\n",
       "Name: movie_count, dtype: float64"
      ]
     },
     "execution_count": 10,
     "metadata": {},
     "output_type": "execute_result"
    }
   ],
   "source": [
    "crew_movies[\"movie_count\"].value_counts(normalize=True).head(10)"
   ]
  },
  {
   "attachments": {},
   "cell_type": "markdown",
   "metadata": {},
   "source": [
    "Almost 59% of crew members worked on only one movie in the dataset. Similarly to what we did for the cast, we will limit our analysis to crew members who have worked on at least 2 movies."
   ]
  },
  {
   "cell_type": "code",
   "execution_count": 11,
   "metadata": {},
   "outputs": [],
   "source": [
    "crew_multiple_films = [person_id for person_id, count in crew_counts.items() if count > 1]"
   ]
  },
  {
   "cell_type": "code",
   "execution_count": 12,
   "metadata": {},
   "outputs": [],
   "source": [
    "credits['crew'] = credits['crew'].apply(lambda x: json.dumps([entry for entry in json.loads(x) if entry['id'] in crew_multiple_films]))"
   ]
  },
  {
   "attachments": {},
   "cell_type": "markdown",
   "metadata": {},
   "source": [
    "## Movies"
   ]
  },
  {
   "cell_type": "code",
   "execution_count": 42,
   "metadata": {},
   "outputs": [],
   "source": [
    "movies = pd.read_csv(\"tmp/raw/tmdb_5000_movies.csv\")"
   ]
  },
  {
   "attachments": {},
   "cell_type": "markdown",
   "metadata": {},
   "source": [
    "### Revenue \n",
    "Removing the movies with no revenue"
   ]
  },
  {
   "cell_type": "code",
   "execution_count": 43,
   "metadata": {},
   "outputs": [
    {
     "data": {
      "text/plain": [
       "(1427, 0.29710597543202166)"
      ]
     },
     "execution_count": 43,
     "metadata": {},
     "output_type": "execute_result"
    }
   ],
   "source": [
    "(movies[\"revenue\"] == 0).sum(), (movies[\"revenue\"] == 0).mean()"
   ]
  },
  {
   "attachments": {},
   "cell_type": "markdown",
   "metadata": {},
   "source": [
    "There are 1427 movies in the dataset with revenue equal to 0 (about 30% of all movies). We will remove them from the dataset as based on our research, these appear to be errors in the data or missing values are labeled as such. This also allows us to reduce the size of the data. "
   ]
  },
  {
   "cell_type": "code",
   "execution_count": 44,
   "metadata": {},
   "outputs": [],
   "source": [
    "movies_to_keep = [movie[\"id\"] for i, movie in movies.iterrows() if movie[\"revenue\"] > 0]"
   ]
  },
  {
   "cell_type": "code",
   "execution_count": 45,
   "metadata": {},
   "outputs": [],
   "source": [
    "movies = movies[movies[\"id\"].isin(movies_to_keep)].reset_index(drop=True)"
   ]
  },
  {
   "cell_type": "code",
   "execution_count": 28,
   "metadata": {},
   "outputs": [],
   "source": [
    "credits = credits[credits[\"movie_id\"].isin(movies_to_keep)].reset_index(drop=True)"
   ]
  },
  {
   "attachments": {},
   "cell_type": "markdown",
   "metadata": {},
   "source": [
    "### Feature engineering"
   ]
  },
  {
   "cell_type": "code",
   "execution_count": 48,
   "metadata": {},
   "outputs": [],
   "source": [
    "columns_to_drop = [\"homepage\", \"original_title\", \"status\"]\n",
    "movies = movies.drop(columns_to_drop, axis=1)"
   ]
  },
  {
   "cell_type": "code",
   "execution_count": 46,
   "metadata": {},
   "outputs": [],
   "source": [
    "movies[\"is_english\"] = movies[\"original_language\"].apply(lambda x: int(x == \"en\"))\n",
    "movies.drop(\"original_language\", axis=1, inplace=True)"
   ]
  },
  {
   "cell_type": "code",
   "execution_count": 68,
   "metadata": {},
   "outputs": [],
   "source": [
    "movies[\"release_year\"] = movies[\"release_date\"].str.slice(0, 4).astype(int)\n",
    "movies[\"release_month\"] = movies[\"release_date\"].str.slice(5, 7).astype(int)\n",
    "movies.drop(\"release_date\", axis=1, inplace=True)"
   ]
  },
  {
   "attachments": {},
   "cell_type": "markdown",
   "metadata": {},
   "source": [
    "Potential features to extract: \n",
    "- one hot encoding for genres\n",
    "- one hot encoding for production companies\n",
    "- one hot encoding for languages \n",
    "\n",
    "We can select only the most popular ones."
   ]
  },
  {
   "cell_type": "code",
   "execution_count": 77,
   "metadata": {},
   "outputs": [],
   "source": [
    "genre_counts = {}\n",
    "for row in movies[\"genres\"]:\n",
    "    genres = json.loads(row)\n",
    "    for genre in genres:\n",
    "        genre_name = genre['name']\n",
    "        genre_counts[genre_name] = genre_counts.get(genre_name, 0) + 1"
   ]
  },
  {
   "cell_type": "code",
   "execution_count": 37,
   "metadata": {},
   "outputs": [
    {
     "data": {
      "text/plain": [
       "{'Action': 940,\n",
       " 'Adventure': 675,\n",
       " 'Fantasy': 351,\n",
       " 'Science Fiction': 439,\n",
       " 'Crime': 537,\n",
       " 'Drama': 1527,\n",
       " 'Thriller': 959,\n",
       " 'Animation': 191,\n",
       " 'Family': 382,\n",
       " 'Western': 61,\n",
       " 'Comedy': 1174,\n",
       " 'Romance': 604,\n",
       " 'Horror': 344,\n",
       " 'Mystery': 268,\n",
       " 'History': 150,\n",
       " 'War': 122,\n",
       " 'Music': 121,\n",
       " 'Documentary': 47,\n",
       " 'Foreign': 6}"
      ]
     },
     "execution_count": 37,
     "metadata": {},
     "output_type": "execute_result"
    }
   ],
   "source": [
    "genre_counts"
   ]
  },
  {
   "cell_type": "code",
   "execution_count": 53,
   "metadata": {},
   "outputs": [],
   "source": [
    "spoken_languages = {}\n",
    "for row in movies[\"spoken_languages\"]:\n",
    "    languages = json.loads(row)\n",
    "    for lan in languages:\n",
    "        lan_iso = lan['iso_639_1']\n",
    "        spoken_languages[lan_iso] = spoken_languages.get(lan_iso, 0) + 1"
   ]
  },
  {
   "cell_type": "code",
   "execution_count": 54,
   "metadata": {},
   "outputs": [
    {
     "data": {
      "text/plain": [
       "{'en': 3262,\n",
       " 'es': 281,\n",
       " 'fr': 316,\n",
       " 'it': 146,\n",
       " 'de': 184,\n",
       " 'tr': 16,\n",
       " 'el': 20,\n",
       " 'zh': 82,\n",
       " 'th': 35,\n",
       " 'is': 5,\n",
       " 'ru': 153,\n",
       " 'sv': 16,\n",
       " 'ro': 9,\n",
       " 'ja': 83,\n",
       " 'la': 43,\n",
       " 'hi': 27,\n",
       " 'pt': 49,\n",
       " 'bo': 3,\n",
       " 'fa': 7,\n",
       " 'ur': 13,\n",
       " 'ar': 56,\n",
       " 'sa': 1,\n",
       " 'gd': 5,\n",
       " 'cs': 29,\n",
       " 'cn': 35,\n",
       " 'ko': 25,\n",
       " 'no': 8,\n",
       " 'ta': 2,\n",
       " 'nv': 1,\n",
       " 'he': 25,\n",
       " 'da': 8,\n",
       " 'nl': 7,\n",
       " 'af': 6,\n",
       " 'ga': 5,\n",
       " 'so': 2,\n",
       " 'fi': 3,\n",
       " 'bg': 3,\n",
       " 'yi': 6,\n",
       " 'vi': 15,\n",
       " 'hu': 24,\n",
       " 'uk': 9,\n",
       " 'eo': 2,\n",
       " 'pl': 29,\n",
       " 'et': 2,\n",
       " 'sq': 4,\n",
       " 'hr': 3,\n",
       " 'tl': 1,\n",
       " 'sh': 2,\n",
       " 'sk': 1,\n",
       " 'ml': 2,\n",
       " 'te': 1,\n",
       " 'cy': 2,\n",
       " 'hy': 3,\n",
       " 'wo': 1,\n",
       " 'xh': 3,\n",
       " 'km': 1,\n",
       " 'sw': 5,\n",
       " 'ny': 1,\n",
       " 'st': 1,\n",
       " 'zu': 3,\n",
       " 'kw': 1,\n",
       " 'sr': 4,\n",
       " 'si': 1,\n",
       " 'ne': 1,\n",
       " 'ps': 1,\n",
       " 'kk': 1,\n",
       " 'mn': 1,\n",
       " 'xx': 2,\n",
       " 'gl': 1,\n",
       " 'bs': 1,\n",
       " 'ka': 1,\n",
       " 'bn': 1,\n",
       " 'mi': 2,\n",
       " 'to': 1,\n",
       " 'ca': 1,\n",
       " 'pa': 1,\n",
       " 'br': 1,\n",
       " 'id': 2}"
      ]
     },
     "execution_count": 54,
     "metadata": {},
     "output_type": "execute_result"
    }
   ],
   "source": [
    "spoken_languages"
   ]
  },
  {
   "cell_type": "code",
   "execution_count": 71,
   "metadata": {},
   "outputs": [],
   "source": [
    "production_companies = {}\n",
    "for row in movies[\"production_companies\"]:\n",
    "    companies = json.loads(row)\n",
    "    for c in companies:\n",
    "        c_name = c['name']\n",
    "        production_companies[c_name] = production_companies.get(c_name, 0) + 1"
   ]
  },
  {
   "cell_type": "code",
   "execution_count": 76,
   "metadata": {},
   "outputs": [
    {
     "data": {
      "text/html": [
       "<div>\n",
       "<style scoped>\n",
       "    .dataframe tbody tr th:only-of-type {\n",
       "        vertical-align: middle;\n",
       "    }\n",
       "\n",
       "    .dataframe tbody tr th {\n",
       "        vertical-align: top;\n",
       "    }\n",
       "\n",
       "    .dataframe thead th {\n",
       "        text-align: right;\n",
       "    }\n",
       "</style>\n",
       "<table border=\"1\" class=\"dataframe\">\n",
       "  <thead>\n",
       "    <tr style=\"text-align: right;\">\n",
       "      <th></th>\n",
       "      <th>company</th>\n",
       "      <th>count</th>\n",
       "    </tr>\n",
       "  </thead>\n",
       "  <tbody>\n",
       "    <tr>\n",
       "      <th>11</th>\n",
       "      <td>Warner Bros.</td>\n",
       "      <td>285</td>\n",
       "    </tr>\n",
       "    <tr>\n",
       "      <th>52</th>\n",
       "      <td>Universal Pictures</td>\n",
       "      <td>276</td>\n",
       "    </tr>\n",
       "    <tr>\n",
       "      <th>38</th>\n",
       "      <td>Paramount Pictures</td>\n",
       "      <td>251</td>\n",
       "    </tr>\n",
       "    <tr>\n",
       "      <th>1</th>\n",
       "      <td>Twentieth Century Fox Film Corporation</td>\n",
       "      <td>205</td>\n",
       "    </tr>\n",
       "    <tr>\n",
       "      <th>7</th>\n",
       "      <td>Columbia Pictures</td>\n",
       "      <td>168</td>\n",
       "    </tr>\n",
       "    <tr>\n",
       "      <th>46</th>\n",
       "      <td>New Line Cinema</td>\n",
       "      <td>144</td>\n",
       "    </tr>\n",
       "    <tr>\n",
       "      <th>4</th>\n",
       "      <td>Walt Disney Pictures</td>\n",
       "      <td>100</td>\n",
       "    </tr>\n",
       "    <tr>\n",
       "      <th>54</th>\n",
       "      <td>Relativity Media</td>\n",
       "      <td>100</td>\n",
       "    </tr>\n",
       "    <tr>\n",
       "      <th>49</th>\n",
       "      <td>Metro-Goldwyn-Mayer (MGM)</td>\n",
       "      <td>96</td>\n",
       "    </tr>\n",
       "    <tr>\n",
       "      <th>193</th>\n",
       "      <td>Touchstone Pictures</td>\n",
       "      <td>95</td>\n",
       "    </tr>\n",
       "    <tr>\n",
       "      <th>250</th>\n",
       "      <td>Columbia Pictures Corporation</td>\n",
       "      <td>87</td>\n",
       "    </tr>\n",
       "    <tr>\n",
       "      <th>112</th>\n",
       "      <td>Village Roadshow Pictures</td>\n",
       "      <td>74</td>\n",
       "    </tr>\n",
       "    <tr>\n",
       "      <th>80</th>\n",
       "      <td>DreamWorks SKG</td>\n",
       "      <td>67</td>\n",
       "    </tr>\n",
       "    <tr>\n",
       "      <th>384</th>\n",
       "      <td>Miramax Films</td>\n",
       "      <td>67</td>\n",
       "    </tr>\n",
       "    <tr>\n",
       "      <th>524</th>\n",
       "      <td>United Artists</td>\n",
       "      <td>65</td>\n",
       "    </tr>\n",
       "    <tr>\n",
       "      <th>289</th>\n",
       "      <td>Regency Enterprises</td>\n",
       "      <td>62</td>\n",
       "    </tr>\n",
       "    <tr>\n",
       "      <th>2</th>\n",
       "      <td>Dune Entertainment</td>\n",
       "      <td>56</td>\n",
       "    </tr>\n",
       "    <tr>\n",
       "      <th>363</th>\n",
       "      <td>Canal+</td>\n",
       "      <td>51</td>\n",
       "    </tr>\n",
       "    <tr>\n",
       "      <th>319</th>\n",
       "      <td>TriStar Pictures</td>\n",
       "      <td>50</td>\n",
       "    </tr>\n",
       "    <tr>\n",
       "      <th>1556</th>\n",
       "      <td>Fox Searchlight Pictures</td>\n",
       "      <td>49</td>\n",
       "    </tr>\n",
       "  </tbody>\n",
       "</table>\n",
       "</div>"
      ],
      "text/plain": [
       "                                     company  count\n",
       "11                              Warner Bros.    285\n",
       "52                        Universal Pictures    276\n",
       "38                        Paramount Pictures    251\n",
       "1     Twentieth Century Fox Film Corporation    205\n",
       "7                          Columbia Pictures    168\n",
       "46                           New Line Cinema    144\n",
       "4                       Walt Disney Pictures    100\n",
       "54                          Relativity Media    100\n",
       "49                 Metro-Goldwyn-Mayer (MGM)     96\n",
       "193                      Touchstone Pictures     95\n",
       "250            Columbia Pictures Corporation     87\n",
       "112                Village Roadshow Pictures     74\n",
       "80                            DreamWorks SKG     67\n",
       "384                            Miramax Films     67\n",
       "524                           United Artists     65\n",
       "289                      Regency Enterprises     62\n",
       "2                         Dune Entertainment     56\n",
       "363                                   Canal+     51\n",
       "319                         TriStar Pictures     50\n",
       "1556                Fox Searchlight Pictures     49"
      ]
     },
     "execution_count": 76,
     "metadata": {},
     "output_type": "execute_result"
    }
   ],
   "source": [
    "pd.DataFrame({'company': list(production_companies.keys()), 'count': list(production_companies.values())}).sort_values(by='count', ascending=False).head(20)"
   ]
  },
  {
   "cell_type": "code",
   "execution_count": 83,
   "metadata": {},
   "outputs": [],
   "source": [
    "credits.to_csv(\"tmp/raw/tmdb_5000_credits_processed.csv\", index=False)\n",
    "movies.to_csv(\"tmp/raw/tmdb_5000_movies_processed.csv\", index=False)"
   ]
  },
  {
   "cell_type": "code",
   "execution_count": null,
   "metadata": {},
   "outputs": [],
   "source": []
  }
 ],
 "metadata": {
  "kernelspec": {
   "display_name": "Python 3",
   "language": "python",
   "name": "python3"
  },
  "language_info": {
   "codemirror_mode": {
    "name": "ipython",
    "version": 3
   },
   "file_extension": ".py",
   "mimetype": "text/x-python",
   "name": "python",
   "nbconvert_exporter": "python",
   "pygments_lexer": "ipython3",
   "version": "3.10.5"
  },
  "orig_nbformat": 4
 },
 "nbformat": 4,
 "nbformat_minor": 2
}
